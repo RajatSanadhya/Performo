{
 "cells": [
  {
   "cell_type": "code",
   "execution_count": null,
   "metadata": {},
   "outputs": [],
   "source": [
    "import requests\n",
    "import json\n",
    "from flask import Flask, request\n",
    "import psycopg2"
   ]
  },
  {
   "cell_type": "code",
   "execution_count": null,
   "metadata": {},
   "outputs": [],
   "source": [
    "class ScaleSERP:\n",
    "    api_key = \"\"\n",
    "    def __init__(self,key):\n",
    "        self.api_key = key\n",
    "    \n",
    "    def get_data(self,keyword):\n",
    "        params = {\n",
    "            'api_key': self.api_key,\n",
    "            'q': keyword,\n",
    "            'num' : '10'\n",
    "        }\n",
    "        return requests.get('https://api.scaleserp.com/search', params).json()"
   ]
  },
  {
   "cell_type": "code",
   "execution_count": null,
   "metadata": {},
   "outputs": [],
   "source": [
    "class database():\n",
    "    HOST = \"\"\n",
    "    DB = \"\"\n",
    "    USERNAME = \"\"\n",
    "    PASSWORD = \"\"\n",
    "    def __init__(self,host,db,user,pwd):\n",
    "        self.HOST = host\n",
    "        self.DB = db\n",
    "        self.USERNAME = user\n",
    "        self.PASSWORD = pwd\n",
    "    \n",
    "    def connect(self):\n",
    "        self.conn = psycopg2.connect(host=self.HOST,\n",
    "                                     database=self.DB,\n",
    "                                     user=self.USERNAME,\n",
    "                                     password=self.PASSWORD)\n",
    "        self.cur = self.conn.cursor()\n",
    "        \n",
    "    def insert_data(self,data,table):\n",
    "        query = f'INSERT INTO {table} VALUES(%s)'\n",
    "        self.cur.execute(query, (json.dunps(data),))\n",
    "        self.conn.commit()\n",
    "    \n",
    "    def insert_organic_results(self,data):\n",
    "        self.insert_data(self,data[\"organic_results\"],\"organic_results\")\n",
    "\n",
    "    def insert_top_stories(self,data):\n",
    "        self.insert_data(self,data[\"top_stories\"],\"top_stories\")\n",
    "    \n",
    "    def disconnect():\n",
    "        self.cur.close()\n",
    "        self.conn.close()"
   ]
  },
  {
   "cell_type": "code",
   "execution_count": null,
   "metadata": {},
   "outputs": [],
   "source": [
    "data = \"\"\n",
    "scale_serp = ScaleSERP(\"\")\n",
    "db = database(\"localhost\",\"test\",\"rajat\",\"rajat\")"
   ]
  },
  {
   "cell_type": "code",
   "execution_count": null,
   "metadata": {},
   "outputs": [],
   "source": [
    "app = Flask(__name__)\n",
    "@app.route('/api/keyword', methods=['POST'])\n",
    "def keyword_data():\n",
    "    global data,scale_serp,db\n",
    "    data = scale_serp.get_data(request.json.get('keyword'))\n",
    "    db.connect()\n",
    "    db.insert_organic_results(data)\n",
    "    db.insert_top_stories(data)\n",
    "    db.disconnect()"
   ]
  },
  {
   "cell_type": "code",
   "execution_count": null,
   "metadata": {},
   "outputs": [],
   "source": [
    "if __name__ == '__main__':\n",
    "    app.run()"
   ]
  }
 ],
 "metadata": {
  "kernelspec": {
   "display_name": "Python 3",
   "language": "python",
   "name": "python3"
  },
  "language_info": {
   "codemirror_mode": {
    "name": "ipython",
    "version": 3
   },
   "file_extension": ".py",
   "mimetype": "text/x-python",
   "name": "python",
   "nbconvert_exporter": "python",
   "pygments_lexer": "ipython3",
   "version": "3.9.1"
  }
 },
 "nbformat": 4,
 "nbformat_minor": 4
}
