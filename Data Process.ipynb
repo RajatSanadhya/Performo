{
 "cells": [
  {
   "cell_type": "code",
   "execution_count": 15,
   "metadata": {
    "scrolled": true
   },
   "outputs": [
    {
     "name": "stdout",
     "output_type": "stream",
     "text": [
      "\u001b[33mDEPRECATION: Configuring installation scheme with distutils config files is deprecated and will no longer work in the near future. If you are using a Homebrew or Linuxbrew Python, please see discussion at https://github.com/Homebrew/homebrew-core/issues/76621\u001b[0m\u001b[33m\n",
      "\u001b[0mRequirement already satisfied: feedparser in /usr/local/lib/python3.9/site-packages (6.0.10)\n",
      "Requirement already satisfied: sgmllib3k in /usr/local/lib/python3.9/site-packages (from feedparser) (1.0.0)\n",
      "\u001b[33mDEPRECATION: Configuring installation scheme with distutils config files is deprecated and will no longer work in the near future. If you are using a Homebrew or Linuxbrew Python, please see discussion at https://github.com/Homebrew/homebrew-core/issues/76621\u001b[0m\u001b[33m\n",
      "\u001b[0m"
     ]
    }
   ],
   "source": [
    "!pip3 install feedparser"
   ]
  },
  {
   "cell_type": "code",
   "execution_count": 1,
   "metadata": {},
   "outputs": [],
   "source": [
    "import feedparser\n",
    "import pandas as pd\n",
    "from datetime import datetime\n",
    "import time\n",
    "from hashlib import md5\n",
    "from base64 import b64encode\n",
    "from Utils import connectDB,getdata,storetoDB"
   ]
  },
  {
   "cell_type": "raw",
   "metadata": {},
   "source": [
    "publisher_id|publisher_name   |remarks                    |\n",
    "------------+-----------------+---------------------------+\n",
    "           1|Business Standard|Access denied|\n",
    "           2|CNBC             |'id' is number. link has no id. GUID is not link. Image not present|\n",
    "           3|Danik jagran     |-|\n",
    "           4|First Post       |-|\n",
    "           5|HT               |Data not coming for some feeds |\n",
    "         **6|India Today      |GUID not present. Issues with publish date. Image not present|\n",
    "           7|India TV English |Image not present|\n",
    "           8|India TV Hindi   |Image not present|\n",
    "           9|Indian Express   |Access denied|\n",
    "          10|Live Mint        |-|\n",
    "          11|Money Control    |Image and Author not present|\n",
    "          12|NDTV             |Author not present|\n",
    "          13|The Hindu        |Image and Author not present|\n",
    "          14|The Tribune      |Summary or excerpt.|\n",
    "          15|TOI              |Image not present. Author present for some and not for some|\n",
    "          16|News 18          |-|"
   ]
  },
  {
   "cell_type": "code",
   "execution_count": 21,
   "metadata": {},
   "outputs": [
    {
     "ename": "ProgrammingError",
     "evalue": "no results to fetch",
     "output_type": "error",
     "traceback": [
      "\u001b[0;31m---------------------------------------------------------------------------\u001b[0m",
      "\u001b[0;31mProgrammingError\u001b[0m                          Traceback (most recent call last)",
      "\u001b[0;32m<ipython-input-21-23a9833256fa>\u001b[0m in \u001b[0;36m<module>\u001b[0;34m\u001b[0m\n\u001b[1;32m      6\u001b[0m \u001b[0;31m#         where publisher_id = 14\u001b[0m\u001b[0;34m\u001b[0m\u001b[0;34m\u001b[0m\u001b[0;34m\u001b[0m\u001b[0m\n\u001b[1;32m      7\u001b[0m \u001b[0;31m#         \"\"\")\u001b[0m\u001b[0;34m\u001b[0m\u001b[0;34m\u001b[0m\u001b[0;34m\u001b[0m\u001b[0m\n\u001b[0;32m----> 8\u001b[0;31m \u001b[0mdata\u001b[0m \u001b[0;34m=\u001b[0m \u001b[0mcursor\u001b[0m\u001b[0;34m.\u001b[0m\u001b[0mfetchall\u001b[0m\u001b[0;34m(\u001b[0m\u001b[0;34m)\u001b[0m\u001b[0;34m\u001b[0m\u001b[0;34m\u001b[0m\u001b[0m\n\u001b[0m",
      "\u001b[0;31mProgrammingError\u001b[0m: no results to fetch"
     ]
    }
   ],
   "source": [
    "conn = connectDB()\n",
    "cursor = conn.cursor()\n",
    "# cursor.execute(\"\"\"select \n",
    "#         publisher_salt,id, feed_url \n",
    "#         from dev_performo.publisher_category_mapping pcm \n",
    "#         where publisher_id = 14\n",
    "#         \"\"\")\n",
    "data = cursor.fetchall()"
   ]
  },
  {
   "cell_type": "code",
   "execution_count": 9,
   "metadata": {},
   "outputs": [
    {
     "data": {
      "text/plain": [
       "[('TRI-en-in', 813, 'https://www.tribuneindia.com/rss/feed?catId=42'),\n",
       " ('TRI-en-in', 814, 'https://www.tribuneindia.com/rss/feed?catId=290'),\n",
       " ('TRI-en-in', 815, 'https://www.tribuneindia.com/rss/feed?catId=57'),\n",
       " ('TRI-en-in', 816, 'https://www.tribuneindia.com/rss/feed?catId=50'),\n",
       " ('TRI-en-in', 817, 'https://www.tribuneindia.com/rss/feed?catId=19'),\n",
       " ('TRI-en-in', 818, 'https://www.tribuneindia.com/rss/feed?catId=26'),\n",
       " ('TRI-en-in', 819, 'https://www.tribuneindia.com/rss/feed?catId=284'),\n",
       " ('TRI-en-in', 820, 'https://www.tribuneindia.com/rss/feed?catId=288'),\n",
       " ('TRI-en-in', 821, 'https://www.tribuneindia.com/rss/feed?catId=0'),\n",
       " ('TRI-en-in', 822, 'https://www.tribuneindia.com/rss/feed?catId=25'),\n",
       " ('TRI-en-in', 823, 'https://www.tribuneindia.com/rss/feed?catId=260'),\n",
       " ('TRI-en-in', 824, 'https://www.tribuneindia.com/rss/feed?catId=261'),\n",
       " ('TRI-en-in', 825, 'https://www.tribuneindia.com/rss/feed?catId=208'),\n",
       " ('TRI-en-in', 826, 'https://www.tribuneindia.com/rss/feed?catId=210'),\n",
       " ('TRI-en-in', 827, 'https://www.tribuneindia.com/rss/feed?catId=45'),\n",
       " ('TRI-en-in', 828, 'https://www.tribuneindia.com/rss/feed?catId=28'),\n",
       " ('TRI-en-in', 829, 'https://www.tribuneindia.com/rss/feed?catId=30'),\n",
       " ('TRI-en-in', 830, 'https://www.tribuneindia.com/rss/feed?catId=36'),\n",
       " ('TRI-en-in', 831, 'https://www.tribuneindia.com/rss/feed?catId=17'),\n",
       " ('TRI-en-in', 832, 'https://www.tribuneindia.com/rss/feed?catId=18'),\n",
       " ('TRI-en-in', 833, 'https://www.tribuneindia.com/rss/feed?catId=20'),\n",
       " ('TRI-en-in', 834, 'https://www.tribuneindia.com/rss/feed?catId=24'),\n",
       " ('TRI-en-in', 835, 'https://www.tribuneindia.com/rss/feed?catId=34'),\n",
       " ('TRI-en-in', 836, 'https://www.tribuneindia.com/rss/feed?catId=40'),\n",
       " ('TRI-en-in', 837, 'https://www.tribuneindia.com/rss/feed?catId=213'),\n",
       " ('TRI-en-in', 838, 'https://www.tribuneindia.com/rss/feed?catId=60'),\n",
       " ('TRI-en-in', 839, 'https://www.tribuneindia.com/rss/feed?catId=59'),\n",
       " ('TRI-en-in', 840, 'https://www.tribuneindia.com/rss/feed?catId=62'),\n",
       " ('TRI-en-in', 841, 'https://www.tribuneindia.com/rss/feed?catId=216'),\n",
       " ('TRI-en-in', 842, 'https://www.tribuneindia.com/rss/feed?catId=64'),\n",
       " ('TRI-en-in', 843, 'https://www.tribuneindia.com/rss/feed?catId=217'),\n",
       " ('TRI-en-in', 844, 'https://www.tribuneindia.com/rss/feed?catId=38'),\n",
       " ('TRI-en-in', 845, 'https://www.tribuneindia.com/rss/feed?catId=221'),\n",
       " ('TRI-en-in', 846, 'https://www.tribuneindia.com/rss/feed?catId=41'),\n",
       " ('TRI-en-in', 847, 'https://www.tribuneindia.com/rss/feed?catId=215'),\n",
       " ('TRI-en-in', 848, 'https://www.tribuneindia.com/rss/feed?catId=218'),\n",
       " ('TRI-en-in', 849, 'https://www.tribuneindia.com/rss/feed?catId=167'),\n",
       " ('TRI-en-in', 850, 'https://www.tribuneindia.com/rss/feed?catId=37'),\n",
       " ('TRI-en-in', 851, 'https://www.tribuneindia.com/rss/feed?catId=29'),\n",
       " ('TRI-en-in', 852, 'https://www.tribuneindia.com/rss/feed?catId=47')]"
      ]
     },
     "execution_count": 9,
     "metadata": {},
     "output_type": "execute_result"
    }
   ],
   "source": [
    "data"
   ]
  },
  {
   "cell_type": "code",
   "execution_count": 13,
   "metadata": {},
   "outputs": [
    {
     "name": "stdout",
     "output_type": "stream",
     "text": [
      "813 -> 20\n",
      "814 -> 20\n",
      "815 -> 20\n",
      "816 -> 20\n",
      "817 -> 20\n",
      "818 -> 20\n",
      "819 -> 20\n",
      "820 -> 20\n",
      "821 -> 15\n",
      "822 -> 20\n",
      "823 -> 20\n",
      "824 -> 20\n",
      "825 -> 20\n",
      "826 -> 20\n",
      "827 -> 20\n",
      "828 -> 20\n",
      "829 -> 20\n",
      "830 -> 20\n",
      "831 -> 20\n",
      "832 -> 20\n",
      "833 -> 20\n",
      "834 -> 20\n",
      "835 -> 20\n",
      "836 -> 20\n",
      "837 -> 20\n",
      "838 -> 20\n",
      "839 -> 20\n",
      "840 -> 20\n",
      "841 -> 20\n",
      "842 -> 20\n",
      "843 -> 13\n",
      "844 -> 20\n",
      "845 -> 20\n",
      "846 -> 20\n",
      "847 -> 20\n",
      "848 -> 20\n",
      "849 -> 20\n",
      "850 -> 20\n",
      "851 -> 20\n",
      "852 -> 20\n",
      "0\n"
     ]
    }
   ],
   "source": [
    "df = pd.DataFrame(columns=['id', 'title', 'pubdate','link', 'pub_category_id', 'author','guid', 'summary', 'mediaurl'])\n",
    "count=0\n",
    "pname = 'TRIB'\n",
    "for pub_id,idx,url in data:\n",
    "    feed = feedparser.parse(url)\n",
    "    print(str(idx)+\" -> \"+str(len(feed[\"entries\"])))\n",
    "    for post in feed[\"entries\"]:\n",
    "        try:\n",
    "            df = pd.concat(\n",
    "                [\n",
    "                    df,\n",
    "                    pd.DataFrame(\n",
    "                        [\n",
    "                            [\n",
    "                                str(pub_id)+\"-\"+b64encode(md5(getdata(pname,\"id\",post).encode('utf-8')).digest()).decode(\"utf-8\"),\n",
    "                                getdata(pname,\"title\",post), \n",
    "                                datetime.fromtimestamp(time.mktime(getdata(pname,\"pubdate\",post))).isoformat(),\n",
    "                                getdata(pname,\"link\",post),\n",
    "                                idx,\n",
    "                                getdata(pname,\"author\",post),\n",
    "                                getdata(pname,\"guid\",post),\n",
    "                                getdata(pname,\"summary\",post),\n",
    "                                getdata(pname,\"mediaurl\",post)\n",
    "                            ]\n",
    "                        ],\n",
    "                        columns=df.columns)],\n",
    "                ignore_index=True)\n",
    "        except Exception as e:\n",
    "            print(e)\n",
    "            count = count+1\n",
    "print(count)"
   ]
  },
  {
   "cell_type": "code",
   "execution_count": 14,
   "metadata": {},
   "outputs": [
    {
     "data": {
      "text/plain": [
       "739"
      ]
     },
     "execution_count": 14,
     "metadata": {},
     "output_type": "execute_result"
    }
   ],
   "source": [
    "df.id.nunique()\n",
    "# df = pd.concat([df.head(),df.tail()],ignore_index=True)\n",
    "# df"
   ]
  },
  {
   "cell_type": "code",
   "execution_count": 15,
   "metadata": {},
   "outputs": [
    {
     "data": {
      "text/html": [
       "<div>\n",
       "<style scoped>\n",
       "    .dataframe tbody tr th:only-of-type {\n",
       "        vertical-align: middle;\n",
       "    }\n",
       "\n",
       "    .dataframe tbody tr th {\n",
       "        vertical-align: top;\n",
       "    }\n",
       "\n",
       "    .dataframe thead th {\n",
       "        text-align: right;\n",
       "    }\n",
       "</style>\n",
       "<table border=\"1\" class=\"dataframe\">\n",
       "  <thead>\n",
       "    <tr style=\"text-align: right;\">\n",
       "      <th></th>\n",
       "      <th>id</th>\n",
       "      <th>title</th>\n",
       "      <th>pubdate</th>\n",
       "      <th>link</th>\n",
       "      <th>pub_category_id</th>\n",
       "      <th>author</th>\n",
       "      <th>guid</th>\n",
       "      <th>summary</th>\n",
       "      <th>mediaurl</th>\n",
       "    </tr>\n",
       "  </thead>\n",
       "  <tbody>\n",
       "    <tr>\n",
       "      <th>0</th>\n",
       "      <td>TRI-en-in-hCUI+enPU3MwTuQAigoceA==</td>\n",
       "      <td>Ahead of assembly elections, LPG cylinder pric...</td>\n",
       "      <td>2023-08-29T10:38:34</td>\n",
       "      <td>https://www.tribuneindia.com/news/nation/lpg-c...</td>\n",
       "      <td>813</td>\n",
       "      <td>PTI</td>\n",
       "      <td>539466</td>\n",
       "      <td>&lt;p&gt;&lt;strong&gt;New Delhi, August 29&lt;/strong&gt;&lt;/p&gt;\\n...</td>\n",
       "      <td>https://englishtribuneimages.blob.core.windows...</td>\n",
       "    </tr>\n",
       "    <tr>\n",
       "      <th>1</th>\n",
       "      <td>TRI-en-in-B4a4nZHxSenKodFMRXN8bg==</td>\n",
       "      <td>Chandrayaan-3's Pragyan rover encounters 4-met...</td>\n",
       "      <td>2023-08-28T11:38:53</td>\n",
       "      <td>https://www.tribuneindia.com/news/nation/chand...</td>\n",
       "      <td>813</td>\n",
       "      <td>ANI</td>\n",
       "      <td>539165</td>\n",
       "      <td>&lt;p&gt;Bengaluru, August 28&lt;/p&gt;\\n&lt;p&gt;Indian Space R...</td>\n",
       "      <td>https://englishtribuneimages.blob.core.windows...</td>\n",
       "    </tr>\n",
       "    <tr>\n",
       "      <th>2</th>\n",
       "      <td>TRI-en-in-OBOzW5mE+t/Fp6qIWOqVmw==</td>\n",
       "      <td>Mumbai hotel stay proves last for soon-to-wed ...</td>\n",
       "      <td>2023-08-28T10:38:45</td>\n",
       "      <td>https://www.tribuneindia.com/news/india/mumbai...</td>\n",
       "      <td>813</td>\n",
       "      <td>PTI</td>\n",
       "      <td>539155</td>\n",
       "      <td>&lt;p&gt;&lt;span style=\"font-size: 14pt;\"&gt;Bhuj (Gujara...</td>\n",
       "      <td>https://englishtribuneimages.blob.core.windows...</td>\n",
       "    </tr>\n",
       "    <tr>\n",
       "      <th>3</th>\n",
       "      <td>TRI-en-in-1UemSjhe+W5lo3GURyankA==</td>\n",
       "      <td>Kota suicides: Family expectations, peer press...</td>\n",
       "      <td>2023-08-28T10:38:25</td>\n",
       "      <td>https://www.tribuneindia.com/news/india/kota-s...</td>\n",
       "      <td>813</td>\n",
       "      <td>Tribune Web Desk</td>\n",
       "      <td>539153</td>\n",
       "      <td>&lt;p&gt;&lt;strong&gt;Vibha Sharma&lt;/strong&gt;&lt;/p&gt;&lt;p&gt;&lt;strong...</td>\n",
       "      <td>https://englishtribuneimages.blob.core.windows...</td>\n",
       "    </tr>\n",
       "    <tr>\n",
       "      <th>4</th>\n",
       "      <td>TRI-en-in-6KJt04N06aohIei7zgU38A==</td>\n",
       "      <td>ISRO's solar mission Aditya-L1 to be launched ...</td>\n",
       "      <td>2023-08-28T10:38:07</td>\n",
       "      <td>https://www.tribuneindia.com/news/india/isros-...</td>\n",
       "      <td>813</td>\n",
       "      <td>PTI</td>\n",
       "      <td>539152</td>\n",
       "      <td>&lt;p&gt;&lt;span style=\"font-size: 14pt;\"&gt;Bengaluru, A...</td>\n",
       "      <td>https://englishtribuneimages.blob.core.windows...</td>\n",
       "    </tr>\n",
       "  </tbody>\n",
       "</table>\n",
       "</div>"
      ],
      "text/plain": [
       "                                   id   \n",
       "0  TRI-en-in-hCUI+enPU3MwTuQAigoceA==  \\\n",
       "1  TRI-en-in-B4a4nZHxSenKodFMRXN8bg==   \n",
       "2  TRI-en-in-OBOzW5mE+t/Fp6qIWOqVmw==   \n",
       "3  TRI-en-in-1UemSjhe+W5lo3GURyankA==   \n",
       "4  TRI-en-in-6KJt04N06aohIei7zgU38A==   \n",
       "\n",
       "                                               title              pubdate   \n",
       "0  Ahead of assembly elections, LPG cylinder pric...  2023-08-29T10:38:34  \\\n",
       "1  Chandrayaan-3's Pragyan rover encounters 4-met...  2023-08-28T11:38:53   \n",
       "2  Mumbai hotel stay proves last for soon-to-wed ...  2023-08-28T10:38:45   \n",
       "3  Kota suicides: Family expectations, peer press...  2023-08-28T10:38:25   \n",
       "4  ISRO's solar mission Aditya-L1 to be launched ...  2023-08-28T10:38:07   \n",
       "\n",
       "                                                link pub_category_id   \n",
       "0  https://www.tribuneindia.com/news/nation/lpg-c...             813  \\\n",
       "1  https://www.tribuneindia.com/news/nation/chand...             813   \n",
       "2  https://www.tribuneindia.com/news/india/mumbai...             813   \n",
       "3  https://www.tribuneindia.com/news/india/kota-s...             813   \n",
       "4  https://www.tribuneindia.com/news/india/isros-...             813   \n",
       "\n",
       "             author    guid   \n",
       "0               PTI  539466  \\\n",
       "1               ANI  539165   \n",
       "2               PTI  539155   \n",
       "3  Tribune Web Desk  539153   \n",
       "4               PTI  539152   \n",
       "\n",
       "                                             summary   \n",
       "0  <p><strong>New Delhi, August 29</strong></p>\\n...  \\\n",
       "1  <p>Bengaluru, August 28</p>\\n<p>Indian Space R...   \n",
       "2  <p><span style=\"font-size: 14pt;\">Bhuj (Gujara...   \n",
       "3  <p><strong>Vibha Sharma</strong></p><p><strong...   \n",
       "4  <p><span style=\"font-size: 14pt;\">Bengaluru, A...   \n",
       "\n",
       "                                            mediaurl  \n",
       "0  https://englishtribuneimages.blob.core.windows...  \n",
       "1  https://englishtribuneimages.blob.core.windows...  \n",
       "2  https://englishtribuneimages.blob.core.windows...  \n",
       "3  https://englishtribuneimages.blob.core.windows...  \n",
       "4  https://englishtribuneimages.blob.core.windows...  "
      ]
     },
     "execution_count": 15,
     "metadata": {},
     "output_type": "execute_result"
    }
   ],
   "source": [
    "df.head()"
   ]
  },
  {
   "cell_type": "code",
   "execution_count": 7,
   "metadata": {},
   "outputs": [],
   "source": [
    "storetoDB(cursor,df)\n",
    "conn.commit()\n",
    "conn.close()"
   ]
  },
  {
   "cell_type": "code",
   "execution_count": 114,
   "metadata": {},
   "outputs": [
    {
     "data": {
      "text/plain": [
       "'UPDATE dev_performo.article_master am SET id=t.id,title=t.title,pubdate=t.pubdate,link=t.link,pub_category_id=t.pub_category_id,author=t.author,guid=t.guid,summary=t.summary,mediaurl=t.mediaurl FROM VALUES(%s,%s,%s,%s,%s,%s,%s,%s,%s) AS t(id,title,pubdate,link,pub_category_id,author,guid,summary,mediaurl) WHERE am.id=am.id AND am.pubdate<>t.pubdate'"
      ]
     },
     "execution_count": 114,
     "metadata": {},
     "output_type": "execute_result"
    }
   ],
   "source": [
    "\"UPDATE {} SET {} FROM {} AS t({}) WHERE am.id=am.id AND am.pubdate<>t.pubdate\".format(\"dev_performo.article_master am\",\",\".join([i+\"=t.\"+i for i in df.columns]),\"VALUES({})\".format(\",\".join([\"%s\" for _ in df.columns])),\",\".join(df.columns)) "
   ]
  },
  {
   "cell_type": "code",
   "execution_count": 112,
   "metadata": {},
   "outputs": [
    {
     "data": {
      "text/plain": [
       "\"UPDATE dev_performo.article_master am SET id=t.id,title=t.title,pubdate=t.pubdate,link=t.link,pub_category_id=t.pub_category_id,author=t.author,guid=t.guid,summary=t.summary,mediaurl=t.mediaurl FROM (values('test','updated test Title',NOW(),'test',2,'test','test','test','test')) as t(id,title,pubdate,link,pub_category_id,author,guid,summary,mediaurl) WHERE am.id=t.id AND am.pubdate<>t.pubdate\""
      ]
     },
     "execution_count": 112,
     "metadata": {},
     "output_type": "execute_result"
    }
   ],
   "source": [
    "\"UPDATE dev_performo.article_master am SET id=t.id,title=t.title,pubdate=t.pubdate,link=t.link,pub_category_id=t.pub_category_id,author=t.author,guid=t.guid,summary=t.summary,mediaurl=t.mediaurl FROM (values('test','updated test Title',NOW(),'test',2,'test','test','test','test')) as t(id,title,pubdate,link,pub_category_id,author,guid,summary,mediaurl) WHERE am.id=t.id AND am.pubdate<>t.pubdate\n"
   ]
  },
  {
   "cell_type": "code",
   "execution_count": 159,
   "metadata": {},
   "outputs": [
    {
     "data": {
      "text/plain": [
       "'table.id=EXCLUDED.id{},table.title=EXCLUDED.title{},table.pubdate=EXCLUDED.pubdate{},table.link=EXCLUDED.link{},table.pub_category_id=EXCLUDED.pub_category_id{},table.author=EXCLUDED.author{},table.guid=EXCLUDED.guid{},table.summary=EXCLUDED.summary{},table.mediaurl=EXCLUDED.mediaurl'"
      ]
     },
     "execution_count": 159,
     "metadata": {},
     "output_type": "execute_result"
    }
   ],
   "source": [
    "\",\".join([\"table.\"+i+\"=EXCLUDED.\"+i for i in df.columns])"
   ]
  },
  {
   "cell_type": "code",
   "execution_count": null,
   "metadata": {},
   "outputs": [],
   "source": []
  },
  {
   "cell_type": "markdown",
   "metadata": {},
   "source": [
    "INDIAN EXPRESS = Not accessible data<br>\n",
    "HT = Data not present for some categories<br>\n",
    "Some posts are repetitive in feed<br>\n"
   ]
  },
  {
   "cell_type": "code",
   "execution_count": 67,
   "metadata": {},
   "outputs": [],
   "source": [
    "structs = {\"CNBC\":\"\"\"dat = pd.DataFrame(\n",
    "                        [\n",
    "                            [\n",
    "                                str(pub_id)+\"-\"+b64encode(md5(post[\"id\"].encode('utf-8')).digest()).decode(\"utf-8\"),#publisherID+Hash of GUID\n",
    "                                post[\"title\"],\n",
    "                                datetime.fromtimestamp(time.mktime(post[\"published_parsed\"])).isoformat(),\n",
    "                                post[\"link\"],\n",
    "                                idx,\n",
    "                                None,\n",
    "                                post[\"id\"],\n",
    "                                post[\"summary\"],\n",
    "                                None\n",
    "                                \n",
    "                            ]\n",
    "                        ],\n",
    "                            columns=df.columns)\"\"\",\n",
    "           \"DAJ\":\"\"\"dat = pd.DataFrame(\n",
    "                        [\n",
    "                            [\n",
    "                                str(pub_id)+\"-\"+b64encode(md5(post[\"id\"].encode('utf-8')).digest()).decode(\"utf-8\"),#publisherID+Hash of GUID\n",
    "                                post[\"title\"],\n",
    "                                datetime.fromtimestamp(time.mktime(post[\"published_parsed\"])).isoformat(),\n",
    "                                post[\"link\"],\n",
    "                                idx,\n",
    "                                None,\n",
    "                                post[\"id\"],\n",
    "                                post[\"summary\"],\n",
    "                                post[\"media_content\"][0][\"url\"]\n",
    "                                \n",
    "                            ]\n",
    "                        ],\n",
    "                            columns=df.columns)\"\"\",\n",
    "           \"FP\":\"\"\"dat=pd.DataFrame(\n",
    "                        [\n",
    "                            [\n",
    "                                str(pub_id)+\"-\"+b64encode(md5(post[\"id\"].encode('utf-8')).digest()).decode(\"utf-8\"),#publisherID+Hash of GUID\n",
    "                                post[\"title\"],\n",
    "                                datetime.fromtimestamp(time.mktime(post[\"published_parsed\"])).isoformat(),\n",
    "                                post[\"link\"],\n",
    "                                idx,\n",
    "                                post['author'],\n",
    "                                post[\"id\"],\n",
    "                                post[\"summary\"],\n",
    "                                post[\"media_content\"][0][\"url\"]\n",
    "                                \n",
    "                            ]\n",
    "                        ],\n",
    "                            columns=df.columns)\"\"\",\n",
    "           \"HT\":\"\"\"dat=pd.DataFrame(\n",
    "                        [\n",
    "                            [\n",
    "                                str(pub_id)+\"-\"+b64encode(md5(post[\"id\"].encode('utf-8')).digest()).decode(\"utf-8\"),#publisherID+Hash of GUID\n",
    "                                post[\"title\"],\n",
    "                                datetime.fromtimestamp(time.mktime(post[\"published_parsed\"])).isoformat(),\n",
    "                                post[\"link\"],\n",
    "                                idx,\n",
    "                                None,\n",
    "                                post[\"id\"],\n",
    "                                post[\"summary\"],\n",
    "                                post[\"media_content\"][0][\"url\"]\n",
    "                                \n",
    "                            ]\n",
    "                        ],\n",
    "                            columns=df.columns)\"\"\",\n",
    "           \"ITE\":\"\"\"dat=pd.DataFrame(\n",
    "                        [\n",
    "                            [\n",
    "                                str(pub_id)+\"-\"+b64encode(md5(post[\"id\"].encode('utf-8')).digest()).decode(\"utf-8\"),#publisherID+Hash of GUID\n",
    "                                post[\"title\"],\n",
    "                                datetime.fromtimestamp(time.mktime(post[\"published_parsed\"])).isoformat(),\n",
    "                                post[\"link\"],\n",
    "                                idx,\n",
    "                                None,\n",
    "                                post[\"id\"],\n",
    "                                post[\"summary\"],\n",
    "                                None\n",
    "                                \n",
    "                            ]\n",
    "                        ],\n",
    "                            columns=df.columns)\"\"\",\n",
    "           \"ITH\":\"\"\"dat=pd.DataFrame(\n",
    "                        [\n",
    "                            [\n",
    "                                str(pub_id)+\"-\"+b64encode(md5(post[\"id\"].encode('utf-8')).digest()).decode(\"utf-8\"),#publisherID+Hash of GUID\n",
    "                                post[\"title\"],\n",
    "                                datetime.fromtimestamp(time.mktime(post[\"published_parsed\"])).isoformat(),\n",
    "                                post[\"link\"],\n",
    "                                idx,\n",
    "                                None,\n",
    "                                post[\"id\"],\n",
    "                                post[\"summary\"],\n",
    "                                None\n",
    "                                \n",
    "                            ]\n",
    "                        ],\n",
    "                            columns=df.columns)\"\"\",\n",
    "           \"LM\":\"\"\"dat = pd.DataFrame(\n",
    "                        [\n",
    "                            [\n",
    "                                str(pub_id)+\"-\"+b64encode(md5(post[\"id\"].encode('utf-8')).digest()).decode(\"utf-8\"),#publisherID+Hash of GUID\n",
    "                                post[\"title\"],\n",
    "                                datetime.fromtimestamp(time.mktime(post[\"published_parsed\"])).isoformat(),\n",
    "                                post[\"link\"],\n",
    "                                idx,\n",
    "                                None,\n",
    "                                post[\"id\"],\n",
    "                                post[\"summary\"],\n",
    "                                post[\"media_content\"][0][\"url\"]\n",
    "                                \n",
    "                            ]\n",
    "                        ],\n",
    "                            columns=df.columns)\"\"\",\n",
    "           \"MC\":\"\"\"dat=pd.DataFrame(\n",
    "                        [\n",
    "                            [\n",
    "                                str(pub_id)+\"-\"+b64encode(md5(post[\"id\"].encode('utf-8')).digest()).decode(\"utf-8\"),#publisherID+Hash of GUID\n",
    "                                post[\"title\"],\n",
    "                                datetime.fromtimestamp(time.mktime(post[\"published_parsed\"])).isoformat(),\n",
    "                                post[\"link\"],\n",
    "                                idx,\n",
    "                                None,\n",
    "                                post[\"id\"],\n",
    "                                post[\"summary\"],\n",
    "                                None\n",
    "                                \n",
    "                            ]\n",
    "                        ],\n",
    "                            columns=df.columns)\"\"\",\n",
    "           \"NDTV\":\"\"\"dat = pd.DataFrame(\n",
    "                        [\n",
    "                            [\n",
    "                                str(pub_id)+\"-\"+b64encode(md5(post[\"id\"].encode('utf-8')).digest()).decode(\"utf-8\"),#publisherID+Hash of GUID\n",
    "                                post[\"title\"],\n",
    "                                datetime.fromtimestamp(time.mktime(post[\"published_parsed\"])).isoformat(),\n",
    "                                post[\"link\"],\n",
    "                                idx,\n",
    "                                None,\n",
    "                                post[\"id\"],\n",
    "                                post[\"summary\"],\n",
    "                                post[\"media_content\"][0][\"url\"]\n",
    "                                \n",
    "                            ]\n",
    "                        ],\n",
    "                            columns=df.columns)\"\"\",\n",
    "           \"THIN\":\"\"\"dat=pd.DataFrame(\n",
    "                        [\n",
    "                            [\n",
    "                                str(pub_id)+\"-\"+b64encode(md5(post[\"id\"].encode('utf-8')).digest()).decode(\"utf-8\"),#publisherID+Hash of GUID\n",
    "                                post[\"title\"],\n",
    "                                datetime.fromtimestamp(time.mktime(post[\"published_parsed\"])).isoformat(),\n",
    "                                post[\"link\"],\n",
    "                                idx,\n",
    "                                None,\n",
    "                                post[\"id\"],\n",
    "                                post[\"summary\"],\n",
    "                                None\n",
    "                                \n",
    "                            ]\n",
    "                        ],\n",
    "                            columns=df.columns)\"\"\",\n",
    "           \"TRIB\":\"\"\"dat=pd.DataFrame(\n",
    "                        [\n",
    "                            [\n",
    "                                str(pub_id)+\"-\"+b64encode(md5(post[\"articleid\"].encode('utf-8')).digest()).decode(\"utf-8\"),#publisherID+Hash of GUID\n",
    "                                post[\"title\"], \n",
    "                                datetime.fromtimestamp(time.mktime(post[\"published_parsed\"])).isoformat(),\n",
    "                                post[\"link\"],\n",
    "                                idx,\n",
    "                                post[\"authorname\"],\n",
    "                                post[\"articleid\"],\n",
    "                                post[\"summary\"],\n",
    "                                post[\"media_content\"][0][\"url\"]\n",
    "                                \n",
    "                            ]\n",
    "                        ],\n",
    "                            columns=df.columns)\"\"\",\n",
    "           \"TOI\":\"\"\"dat=pd.DataFrame(\n",
    "                        [\n",
    "                            [\n",
    "                                str(pub_id)+\"-\"+b64encode(md5(post[\"id\"].encode('utf-8')).digest()).decode(\"utf-8\"),#publisherID+Hash of GUID\n",
    "                                post[\"title\"], \n",
    "                                datetime.fromtimestamp(time.mktime(post[\"published_parsed\"])).isoformat(),\n",
    "                                post[\"link\"],\n",
    "                                idx,\n",
    "                                None,\n",
    "                                post[\"id\"],\n",
    "                                post[\"summary\"],\n",
    "                                None\n",
    "                                \n",
    "                            ]\n",
    "                        ],\n",
    "                            columns=df.columns)\"\"\",\n",
    "           \"NWS18\":\"\"\"dat = pd.DataFrame(\n",
    "                        [\n",
    "                            [\n",
    "                                str(pub_id)+\"-\"+b64encode(md5(post[\"id\"].encode('utf-8')).digest()).decode(\"utf-8\"),#publisherID+Hash of GUID\n",
    "                                post[\"title\"],\n",
    "                                datetime.fromtimestamp(time.mktime(post[\"published_parsed\"])).isoformat(),\n",
    "                                post[\"link\"],\n",
    "                                idx,\n",
    "                                None,\n",
    "                                post[\"id\"],\n",
    "                                post[\"summary\"],\n",
    "                                post[\"media_content\"][0][\"url\"]\n",
    "                                \n",
    "                            ]\n",
    "                        ],\n",
    "                            columns=df.columns)\"\"\"\n",
    "          }"
   ]
  },
  {
   "cell_type": "code",
   "execution_count": 65,
   "metadata": {},
   "outputs": [],
   "source": [
    "exec(structs[\"TOI\"])"
   ]
  },
  {
   "cell_type": "code",
   "execution_count": 66,
   "metadata": {},
   "outputs": [
    {
     "data": {
      "text/html": [
       "<div>\n",
       "<style scoped>\n",
       "    .dataframe tbody tr th:only-of-type {\n",
       "        vertical-align: middle;\n",
       "    }\n",
       "\n",
       "    .dataframe tbody tr th {\n",
       "        vertical-align: top;\n",
       "    }\n",
       "\n",
       "    .dataframe thead th {\n",
       "        text-align: right;\n",
       "    }\n",
       "</style>\n",
       "<table border=\"1\" class=\"dataframe\">\n",
       "  <thead>\n",
       "    <tr style=\"text-align: right;\">\n",
       "      <th></th>\n",
       "      <th>id</th>\n",
       "      <th>title</th>\n",
       "      <th>pubdate</th>\n",
       "      <th>link</th>\n",
       "      <th>pub_category_id</th>\n",
       "      <th>author</th>\n",
       "      <th>guid</th>\n",
       "      <th>summary</th>\n",
       "      <th>mediaurl</th>\n",
       "    </tr>\n",
       "  </thead>\n",
       "  <tbody>\n",
       "    <tr>\n",
       "      <th>0</th>\n",
       "      <td>TOI-en-in-pg10WTtHwxepV18FBWhWgg==</td>\n",
       "      <td>France's Macron holds security meeting amid he...</td>\n",
       "      <td>2023-10-16T11:24:23</td>\n",
       "      <td>https://timesofindia.indiatimes.com/world/euro...</td>\n",
       "      <td>103</td>\n",
       "      <td>None</td>\n",
       "      <td>https://timesofindia.indiatimes.com/world/euro...</td>\n",
       "      <td>&lt;img align=\"left\" border=\"0\" hspace=\"10\" src=\"...</td>\n",
       "      <td>None</td>\n",
       "    </tr>\n",
       "  </tbody>\n",
       "</table>\n",
       "</div>"
      ],
      "text/plain": [
       "                                   id   \n",
       "0  TOI-en-in-pg10WTtHwxepV18FBWhWgg==  \\\n",
       "\n",
       "                                               title              pubdate   \n",
       "0  France's Macron holds security meeting amid he...  2023-10-16T11:24:23  \\\n",
       "\n",
       "                                                link  pub_category_id author   \n",
       "0  https://timesofindia.indiatimes.com/world/euro...              103   None  \\\n",
       "\n",
       "                                                guid   \n",
       "0  https://timesofindia.indiatimes.com/world/euro...  \\\n",
       "\n",
       "                                             summary mediaurl  \n",
       "0  <img align=\"left\" border=\"0\" hspace=\"10\" src=\"...     None  "
      ]
     },
     "execution_count": 66,
     "metadata": {},
     "output_type": "execute_result"
    }
   ],
   "source": [
    "dat"
   ]
  },
  {
   "cell_type": "code",
   "execution_count": 1,
   "metadata": {},
   "outputs": [],
   "source": []
  },
  {
   "cell_type": "code",
   "execution_count": 143,
   "metadata": {},
   "outputs": [
    {
     "name": "stdout",
     "output_type": "stream",
     "text": [
      "[\"media_content\"][0][\"url\"]\n"
     ]
    }
   ],
   "source": [
    "print(config['Structs'][\"TEST\"])"
   ]
  },
  {
   "cell_type": "code",
   "execution_count": 153,
   "metadata": {},
   "outputs": [],
   "source": [
    "\n",
    "getdat('NEWS18',\"author\",post)"
   ]
  },
  {
   "cell_type": "code",
   "execution_count": 137,
   "metadata": {},
   "outputs": [
    {
     "data": {
      "text/plain": [
       "'https://images.news18.com/ibnlive/uploads/2023/07/maha-pawar-play-16883618063x2.jpg'"
      ]
     },
     "execution_count": 137,
     "metadata": {},
     "output_type": "execute_result"
    },
    {
     "name": "stdout",
     "output_type": "stream",
     "text": [
      "None\n"
     ]
    }
   ],
   "source": [
    "s = eval(compile('try:\\n post[\"media_content\"][0][\"url\"]\\nexcept:\\n \"Default_Article_JPG\"','<string>','single'))\n",
    "print(s)"
   ]
  },
  {
   "cell_type": "code",
   "execution_count": 161,
   "metadata": {},
   "outputs": [
    {
     "data": {
      "text/html": [
       "<div>\n",
       "<style scoped>\n",
       "    .dataframe tbody tr th:only-of-type {\n",
       "        vertical-align: middle;\n",
       "    }\n",
       "\n",
       "    .dataframe tbody tr th {\n",
       "        vertical-align: top;\n",
       "    }\n",
       "\n",
       "    .dataframe thead th {\n",
       "        text-align: right;\n",
       "    }\n",
       "</style>\n",
       "<table border=\"1\" class=\"dataframe\">\n",
       "  <thead>\n",
       "    <tr style=\"text-align: right;\">\n",
       "      <th></th>\n",
       "      <th>id</th>\n",
       "      <th>title</th>\n",
       "      <th>pubdate</th>\n",
       "      <th>link</th>\n",
       "      <th>pub_category_id</th>\n",
       "      <th>author</th>\n",
       "      <th>guid</th>\n",
       "      <th>summary</th>\n",
       "      <th>mediaurl</th>\n",
       "    </tr>\n",
       "  </thead>\n",
       "  <tbody>\n",
       "    <tr>\n",
       "      <th>0</th>\n",
       "      <td>N18-en-in-LMzFOYfkQfzvlv62t4btWw==</td>\n",
       "      <td>Dispute Over NCP's Name, Poll Symbol: EC Fixes...</td>\n",
       "      <td>2023-10-09T17:35:20</td>\n",
       "      <td>https://www.news18.com/india/dispute-over-ncps...</td>\n",
       "      <td>424</td>\n",
       "      <td>None</td>\n",
       "      <td>https://www.news18.com/india/dispute-over-ncps...</td>\n",
       "      <td>The faction led by Ajit Pawar had rebelled aga...</td>\n",
       "      <td>https://images.news18.com/ibnlive/uploads/2023...</td>\n",
       "    </tr>\n",
       "  </tbody>\n",
       "</table>\n",
       "</div>"
      ],
      "text/plain": [
       "                                   id   \n",
       "0  N18-en-in-LMzFOYfkQfzvlv62t4btWw==  \\\n",
       "\n",
       "                                               title              pubdate   \n",
       "0  Dispute Over NCP's Name, Poll Symbol: EC Fixes...  2023-10-09T17:35:20  \\\n",
       "\n",
       "                                                link  pub_category_id author   \n",
       "0  https://www.news18.com/india/dispute-over-ncps...              424   None  \\\n",
       "\n",
       "                                                guid   \n",
       "0  https://www.news18.com/india/dispute-over-ncps...  \\\n",
       "\n",
       "                                             summary   \n",
       "0  The faction led by Ajit Pawar had rebelled aga...  \\\n",
       "\n",
       "                                            mediaurl  \n",
       "0  https://images.news18.com/ibnlive/uploads/2023...  "
      ]
     },
     "execution_count": 161,
     "metadata": {},
     "output_type": "execute_result"
    }
   ],
   "source": [
    "pname = 'TOI'\n",
    "pd.DataFrame(\n",
    "[\n",
    "    [\n",
    "        str(pub_id)+\"-\"+b64encode(md5(getdat(pname,\"id\",post).encode('utf-8')).digest()).decode(\"utf-8\"),\n",
    "        getdat(pname,\"title\",post), \n",
    "        datetime.fromtimestamp(time.mktime(getdat(pname,\"pubdate\",post))).isoformat(),\n",
    "        getdat(pname,\"link\",post),\n",
    "        idx,\n",
    "        getdat(pname,\"author\",post),\n",
    "        getdat(pname,\"guid\",post),\n",
    "        getdat(pname,\"summary\",post),\n",
    "        getdat(pname,\"image\",post)\n",
    "    ]\n",
    "],\n",
    "columns=df.columns)"
   ]
  },
  {
   "cell_type": "code",
   "execution_count": 148,
   "metadata": {},
   "outputs": [
    {
     "data": {
      "text/plain": [
       "'[\"abc\"][0][\"url\"]'"
      ]
     },
     "execution_count": 148,
     "metadata": {},
     "output_type": "execute_result"
    }
   ],
   "source": [
    "config['NEWS18'][\"image\"]"
   ]
  },
  {
   "cell_type": "code",
   "execution_count": null,
   "metadata": {},
   "outputs": [],
   "source": []
  },
  {
   "cell_type": "code",
   "execution_count": null,
   "metadata": {},
   "outputs": [],
   "source": [
    "INSERT INTO dev_performo.article_master ({}) {} ON CONFLICT(id) DO UPDATE SET {}"
   ]
  },
  {
   "cell_type": "code",
   "execution_count": null,
   "metadata": {},
   "outputs": [],
   "source": []
  }
 ],
 "metadata": {
  "kernelspec": {
   "display_name": "Python 3",
   "language": "python",
   "name": "python3"
  },
  "language_info": {
   "codemirror_mode": {
    "name": "ipython",
    "version": 3
   },
   "file_extension": ".py",
   "mimetype": "text/x-python",
   "name": "python",
   "nbconvert_exporter": "python",
   "pygments_lexer": "ipython3",
   "version": "3.9.1"
  }
 },
 "nbformat": 4,
 "nbformat_minor": 4
}
