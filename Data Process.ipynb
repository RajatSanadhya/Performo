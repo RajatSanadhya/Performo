{
 "cells": [
  {
   "cell_type": "code",
   "execution_count": 15,
   "metadata": {
    "scrolled": true
   },
   "outputs": [
    {
     "name": "stdout",
     "output_type": "stream",
     "text": [
      "\u001b[33mDEPRECATION: Configuring installation scheme with distutils config files is deprecated and will no longer work in the near future. If you are using a Homebrew or Linuxbrew Python, please see discussion at https://github.com/Homebrew/homebrew-core/issues/76621\u001b[0m\u001b[33m\n",
      "\u001b[0mRequirement already satisfied: feedparser in /usr/local/lib/python3.9/site-packages (6.0.10)\n",
      "Requirement already satisfied: sgmllib3k in /usr/local/lib/python3.9/site-packages (from feedparser) (1.0.0)\n",
      "\u001b[33mDEPRECATION: Configuring installation scheme with distutils config files is deprecated and will no longer work in the near future. If you are using a Homebrew or Linuxbrew Python, please see discussion at https://github.com/Homebrew/homebrew-core/issues/76621\u001b[0m\u001b[33m\n",
      "\u001b[0m"
     ]
    }
   ],
   "source": [
    "!pip3 install feedparser"
   ]
  },
  {
   "cell_type": "code",
   "execution_count": 3,
   "metadata": {},
   "outputs": [],
   "source": [
    "import feedparser\n",
    "import pandas as pd\n",
    "from datetime import datetime\n",
    "import time\n",
    "import psycopg2\n",
    "import psycopg2.extras\n",
    "from hashlib import md5\n",
    "from base64 import b64encode"
   ]
  },
  {
   "cell_type": "raw",
   "metadata": {},
   "source": [
    "publisher_id|publisher_name   |remarks                    |\n",
    "------------+-----------------+---------------------------+\n",
    "           1|Business Standard|Access denied|\n",
    "           2|CNBC             |'id' is number. link has no id. GUID is not link. Image not present|\n",
    "           3|Danik jagran     |-|\n",
    "           4|First Post       |-|\n",
    "           5|HT               |Data not coming for some feeds |\n",
    "           6|India Today      |GUID not present.|\n",
    "           7|India TV English |-|\n",
    "           8|India TV Hindi   |-|\n",
    "           9|Indian Express   |Access denied              |\n",
    "          10|Live Mint        |-|\n",
    "          11|Money Control    |-|\n",
    "          12|NDTV             |-|\n",
    "          13|The Hindu        |-|\n",
    "          14|The Tribune      |-|\n",
    "          15|TOI              |-|\n",
    "          16|News 18          |-|"
   ]
  },
  {
   "cell_type": "code",
   "execution_count": 204,
   "metadata": {},
   "outputs": [],
   "source": [
    "conn = psycopg2.connect(\n",
    "    host=\"dpg-ckho6v6afg7c73fit3qg-a.singapore-postgres.render.com\",\n",
    "    database=\"dev_performo\",\n",
    "    user=\"performo\",\n",
    "    password=\"mLDsC1aDIccyzYdDQNqmU9xTnPfifxRy\")\n",
    "cursor = conn.cursor()\n",
    "cursor.execute(\"\"\"select \n",
    "        publisher_salt,id, feed_url \n",
    "        from dev_performo.publisher_category_mapping pcm \n",
    "        where publisher_id = 6\n",
    "        LIMIT 4\n",
    "        \"\"\")\n",
    "data = cursor.fetchall()"
   ]
  },
  {
   "cell_type": "code",
   "execution_count": 205,
   "metadata": {},
   "outputs": [
    {
     "data": {
      "text/plain": [
       "[('ITO-en-in', 400, 'https://www.indiatoday.in/rss/1206509'),\n",
       " ('ITO-en-in', 396, 'https://www.indiatoday.in/rss/home'),\n",
       " ('ITO-en-in', 397, 'https://www.indiatoday.in/rss/1206514'),\n",
       " ('ITO-en-in', 398, 'https://www.indiatoday.in/rss/1206551')]"
      ]
     },
     "execution_count": 205,
     "metadata": {},
     "output_type": "execute_result"
    }
   ],
   "source": [
    "data"
   ]
  },
  {
   "cell_type": "code",
   "execution_count": 206,
   "metadata": {},
   "outputs": [
    {
     "name": "stdout",
     "output_type": "stream",
     "text": [
      "dict_keys(['title', 'title_detail', 'links', 'link', 'summary', 'summary_detail', 'published', 'published_parsed'])\n",
      "{'title': 'Assembly polls 2023 | Battling the odds', 'title_detail': {'type': 'text/plain', 'language': None, 'base': 'https://www.indiatoday.in/rss/1206509', 'value': 'Assembly polls 2023 | Battling the odds'}, 'links': [{'rel': 'alternate', 'type': 'text/html', 'href': 'https://www.indiatoday.in/magazine/cover-story/story/20231023-assembly-polls-2023-battling-the-odds-2448338-2023-10-13?utm_source=rss'}], 'link': 'https://www.indiatoday.in/magazine/cover-story/story/20231023-assembly-polls-2023-battling-the-odds-2448338-2023-10-13?utm_source=rss', 'summary': '<a href=\"https://www.indiatoday.in/magazine/cover-story/story/20231023-assembly-polls-2023-battling-the-odds-2448338-2023-10-13\"> <img align=\"left\" alt=\"\" border=\"0\" height=\"180\" hspace=\"2\" src=\"https://akm-img-a-in.tosshub.com/indiatoday/images/story/202310/battling-the-odds-1355512-16x9.jpg?VersionId=o.YB2XKB9mJZVL6cpNzpgATZfaFdpeax\" width=\"305\" /> </a> Assembly polls 2023 | Battling the odds', 'summary_detail': {'type': 'text/html', 'language': None, 'base': 'https://www.indiatoday.in/rss/1206509', 'value': '<a href=\"https://www.indiatoday.in/magazine/cover-story/story/20231023-assembly-polls-2023-battling-the-odds-2448338-2023-10-13\"> <img align=\"left\" alt=\"\" border=\"0\" height=\"180\" hspace=\"2\" src=\"https://akm-img-a-in.tosshub.com/indiatoday/images/story/202310/battling-the-odds-1355512-16x9.jpg?VersionId=o.YB2XKB9mJZVL6cpNzpgATZfaFdpeax\" width=\"305\" /> </a> Assembly polls 2023 | Battling the odds'}, 'published': 'Fri, 13 Oct 2023 19:27:51+05:30', 'published_parsed': None}\n",
      "dict_keys(['title', 'title_detail', 'links', 'link', 'summary', 'summary_detail', 'published', 'published_parsed'])\n",
      "{'title': \"'PM Modi more interested in Israel than Manipur': Rahul Gandhi in Mizoram\", 'title_detail': {'type': 'text/plain', 'language': None, 'base': 'https://www.indiatoday.in/rss/home', 'value': \"'PM Modi more interested in Israel than Manipur': Rahul Gandhi in Mizoram\"}, 'links': [{'rel': 'alternate', 'type': 'text/html', 'href': 'https://www.indiatoday.in/india/story/rahul-gandhi-mizoram-pm-modi-more-interested-in-israel-than-manipur-remark-2449601-2023-10-16?utm_source=rss'}], 'link': 'https://www.indiatoday.in/india/story/rahul-gandhi-mizoram-pm-modi-more-interested-in-israel-than-manipur-remark-2449601-2023-10-16?utm_source=rss', 'summary': '<a href=\"https://www.indiatoday.in/india/story/rahul-gandhi-mizoram-pm-modi-more-interested-in-israel-than-manipur-remark-2449601-2023-10-16\"> <img align=\"left\" alt=\"\" border=\"0\" height=\"180\" hspace=\"2\" src=\"https://akm-img-a-in.tosshub.com/indiatoday/images/story/202310/rahul-gandhi-160903772-16x9.png?VersionId=Dm2DYYwJzWZuwx_pK_vJwknWGZd9TP7I\" width=\"305\" /> </a> PM Modi more interested in Israel than Manipur Rahul Gandhi in Mizoram', 'summary_detail': {'type': 'text/html', 'language': None, 'base': 'https://www.indiatoday.in/rss/home', 'value': '<a href=\"https://www.indiatoday.in/india/story/rahul-gandhi-mizoram-pm-modi-more-interested-in-israel-than-manipur-remark-2449601-2023-10-16\"> <img align=\"left\" alt=\"\" border=\"0\" height=\"180\" hspace=\"2\" src=\"https://akm-img-a-in.tosshub.com/indiatoday/images/story/202310/rahul-gandhi-160903772-16x9.png?VersionId=Dm2DYYwJzWZuwx_pK_vJwknWGZd9TP7I\" width=\"305\" /> </a> PM Modi more interested in Israel than Manipur Rahul Gandhi in Mizoram'}, 'published': 'Mon, 16 Oct 2023 13:36:02+05:30', 'published_parsed': None}\n",
      "dict_keys(['title', 'title_detail', 'links', 'link', 'summary', 'summary_detail', 'published', 'published_parsed'])\n",
      "{'title': 'Vande Bharat trains | Mission zero complaints', 'title_detail': {'type': 'text/plain', 'language': None, 'base': 'https://www.indiatoday.in/rss/1206514', 'value': 'Vande Bharat trains | Mission zero complaints'}, 'links': [{'rel': 'alternate', 'type': 'text/html', 'href': 'https://www.indiatoday.in/magazine/nation/story/20231023-vande-bharat-trains-mission-zero-complaints-2448347-2023-10-13?utm_source=rss'}], 'link': 'https://www.indiatoday.in/magazine/nation/story/20231023-vande-bharat-trains-mission-zero-complaints-2448347-2023-10-13?utm_source=rss', 'summary': '<a href=\"https://www.indiatoday.in/magazine/nation/story/20231023-vande-bharat-trains-mission-zero-complaints-2448347-2023-10-13\"> <img align=\"left\" alt=\"\" border=\"0\" height=\"180\" hspace=\"2\" src=\"https://akm-img-a-in.tosshub.com/indiatoday/images/story/202310/no-room-for-error-a-vande-bharat-express-glides-past-131834507-16x9.jpg?VersionId=8QDQAlxro5U2gzBv4YszaPj9TYXjKhzg\" width=\"305\" /> </a> Vande Bharat trains | Mission zero complaints', 'summary_detail': {'type': 'text/html', 'language': None, 'base': 'https://www.indiatoday.in/rss/1206514', 'value': '<a href=\"https://www.indiatoday.in/magazine/nation/story/20231023-vande-bharat-trains-mission-zero-complaints-2448347-2023-10-13\"> <img align=\"left\" alt=\"\" border=\"0\" height=\"180\" hspace=\"2\" src=\"https://akm-img-a-in.tosshub.com/indiatoday/images/story/202310/no-room-for-error-a-vande-bharat-express-glides-past-131834507-16x9.jpg?VersionId=8QDQAlxro5U2gzBv4YszaPj9TYXjKhzg\" width=\"305\" /> </a> Vande Bharat trains | Mission zero complaints'}, 'published': 'Fri, 13 Oct 2023 17:55:40+05:30', 'published_parsed': None}\n",
      "dict_keys(['title', 'title_detail', 'links', 'link', 'summary', 'summary_detail', 'published', 'published_parsed'])\n",
      "{'title': 'Showcasing ancient Buddhist art | Primal motifs', 'title_detail': {'type': 'text/plain', 'language': None, 'base': 'https://www.indiatoday.in/rss/1206551', 'value': 'Showcasing ancient Buddhist art | Primal motifs'}, 'links': [{'rel': 'alternate', 'type': 'text/html', 'href': 'https://www.indiatoday.in/magazine/leisure/story/20231023-showcasing-ancient-buddhist-art-primal-motifs-2448345-2023-10-13?utm_source=rss'}], 'link': 'https://www.indiatoday.in/magazine/leisure/story/20231023-showcasing-ancient-buddhist-art-primal-motifs-2448345-2023-10-13?utm_source=rss', 'summary': '<a href=\"https://www.indiatoday.in/magazine/leisure/story/20231023-showcasing-ancient-buddhist-art-primal-motifs-2448345-2023-10-13\"> <img align=\"left\" alt=\"\" border=\"0\" height=\"180\" hspace=\"2\" src=\"https://akm-img-a-in.tosshub.com/indiatoday/images/story/202310/slice-of-history-a-detail-from-the-kanaganahalli-stupa--karnataka-satavahana--early-2nd-century-ce-13560285-16x9.jpg?VersionId=zpFYG8_oCI_smEaj_s04dw263Jyy4yZJ\" width=\"305\" /> </a> Showcasing ancient Buddhist art | Primal motifs', 'summary_detail': {'type': 'text/html', 'language': None, 'base': 'https://www.indiatoday.in/rss/1206551', 'value': '<a href=\"https://www.indiatoday.in/magazine/leisure/story/20231023-showcasing-ancient-buddhist-art-primal-motifs-2448345-2023-10-13\"> <img align=\"left\" alt=\"\" border=\"0\" height=\"180\" hspace=\"2\" src=\"https://akm-img-a-in.tosshub.com/indiatoday/images/story/202310/slice-of-history-a-detail-from-the-kanaganahalli-stupa--karnataka-satavahana--early-2nd-century-ce-13560285-16x9.jpg?VersionId=zpFYG8_oCI_smEaj_s04dw263Jyy4yZJ\" width=\"305\" /> </a> Showcasing ancient Buddhist art | Primal motifs'}, 'published': 'Fri, 13 Oct 2023 16:28:15+05:30', 'published_parsed': None}\n",
      "0\n"
     ]
    }
   ],
   "source": [
    "df = pd.DataFrame(columns=['id', 'title', 'pubdate','link', 'pub_category_id', 'author','guid', 'summary', 'mediaurl'])\n",
    "count=0\n",
    "for pub_id,idx,url in data:\n",
    "    feed = feedparser.parse(url)\n",
    "    for post in feed[\"entries\"]:\n",
    "        print(post.keys())\n",
    "        print(post)\n",
    "        break\n",
    "#         exec(structs[\"News18\"]) \n",
    "#         df = pd.concat([df,dat],ignore_index=True)\n",
    "        try:\n",
    "            df = pd.concat(\n",
    "                [   df,\n",
    "                    pd.DataFrame(\n",
    "                        [\n",
    "                            [\n",
    "                                str(pub_id)+\"-\"+b64encode(md5(post[\"id\"].encode('utf-8')).digest()).decode(\"utf-8\"),#publisherID+Hash of GUID\n",
    "                                post[\"title\"], \n",
    "                                datetime.fromtimestamp(time.mktime(post[\"published_parsed\"])).isoformat(),\n",
    "                                post[\"link\"],\n",
    "                                idx,\n",
    "                                None,\n",
    "                                post[\"id\"],\n",
    "                                post[\"summary\"],\n",
    "                                post[\"media_content\"][0][\"url\"]\n",
    "                                \n",
    "                            ]\n",
    "                        ],\n",
    "                            columns=df.columns)\n",
    "                ],\n",
    "                ignore_index=True\n",
    "        )\n",
    "        except:\n",
    "            count = count+1\n",
    "print(count)"
   ]
  },
  {
   "cell_type": "code",
   "execution_count": 170,
   "metadata": {},
   "outputs": [
    {
     "data": {
      "text/plain": [
       "91"
      ]
     },
     "execution_count": 170,
     "metadata": {},
     "output_type": "execute_result"
    }
   ],
   "source": [
    "df.id.nunique()\n",
    "# df = pd.concat([df.head(),df.tail()],ignore_index=True)\n",
    "# df"
   ]
  },
  {
   "cell_type": "code",
   "execution_count": 171,
   "metadata": {},
   "outputs": [
    {
     "data": {
      "text/plain": [
       "(118, 9)"
      ]
     },
     "execution_count": 171,
     "metadata": {},
     "output_type": "execute_result"
    }
   ],
   "source": [
    "df.shape"
   ]
  },
  {
   "cell_type": "code",
   "execution_count": 110,
   "metadata": {},
   "outputs": [],
   "source": [
    "# cur.execute(\"PREPARE stmt\")\n",
    "psycopg2.extras.execute_batch(\n",
    "    cursor, \n",
    "    \"INSERT INTO {} ({}) {} ON CONFLICT(id) DO UPDATE SET {}\".format(\n",
    "        \"dev_performo.article_master\",\n",
    "        \",\".join(df.columns),\n",
    "        \"VALUES({})\".format(\",\".join([\"%s\" for _ in df.columns])),\n",
    "        \",\".join([i+\"=EXCLUDED.\"+i for i in df.columns])), \n",
    "    df.values\n",
    ")\n",
    "# cur.execute(\"DEALLOCATE stmt\")\n",
    "conn.commit()\n",
    "conn.close()"
   ]
  },
  {
   "cell_type": "code",
   "execution_count": 114,
   "metadata": {},
   "outputs": [
    {
     "data": {
      "text/plain": [
       "'UPDATE dev_performo.article_master am SET id=t.id,title=t.title,pubdate=t.pubdate,link=t.link,pub_category_id=t.pub_category_id,author=t.author,guid=t.guid,summary=t.summary,mediaurl=t.mediaurl FROM VALUES(%s,%s,%s,%s,%s,%s,%s,%s,%s) AS t(id,title,pubdate,link,pub_category_id,author,guid,summary,mediaurl) WHERE am.id=am.id AND am.pubdate<>t.pubdate'"
      ]
     },
     "execution_count": 114,
     "metadata": {},
     "output_type": "execute_result"
    }
   ],
   "source": [
    "\"UPDATE {} SET {} FROM {} AS t({}) WHERE am.id=am.id AND am.pubdate<>t.pubdate\".format(\"dev_performo.article_master am\",\",\".join([i+\"=t.\"+i for i in df.columns]),\"VALUES({})\".format(\",\".join([\"%s\" for _ in df.columns])),\",\".join(df.columns)) "
   ]
  },
  {
   "cell_type": "code",
   "execution_count": 112,
   "metadata": {},
   "outputs": [
    {
     "data": {
      "text/plain": [
       "\"UPDATE dev_performo.article_master am SET id=t.id,title=t.title,pubdate=t.pubdate,link=t.link,pub_category_id=t.pub_category_id,author=t.author,guid=t.guid,summary=t.summary,mediaurl=t.mediaurl FROM (values('test','updated test Title',NOW(),'test',2,'test','test','test','test')) as t(id,title,pubdate,link,pub_category_id,author,guid,summary,mediaurl) WHERE am.id=t.id AND am.pubdate<>t.pubdate\""
      ]
     },
     "execution_count": 112,
     "metadata": {},
     "output_type": "execute_result"
    }
   ],
   "source": [
    "\"UPDATE dev_performo.article_master am SET id=t.id,title=t.title,pubdate=t.pubdate,link=t.link,pub_category_id=t.pub_category_id,author=t.author,guid=t.guid,summary=t.summary,mediaurl=t.mediaurl FROM (values('test','updated test Title',NOW(),'test',2,'test','test','test','test')) as t(id,title,pubdate,link,pub_category_id,author,guid,summary,mediaurl) WHERE am.id=t.id AND am.pubdate<>t.pubdate\n"
   ]
  },
  {
   "cell_type": "code",
   "execution_count": 159,
   "metadata": {},
   "outputs": [
    {
     "data": {
      "text/plain": [
       "'table.id=EXCLUDED.id{},table.title=EXCLUDED.title{},table.pubdate=EXCLUDED.pubdate{},table.link=EXCLUDED.link{},table.pub_category_id=EXCLUDED.pub_category_id{},table.author=EXCLUDED.author{},table.guid=EXCLUDED.guid{},table.summary=EXCLUDED.summary{},table.mediaurl=EXCLUDED.mediaurl'"
      ]
     },
     "execution_count": 159,
     "metadata": {},
     "output_type": "execute_result"
    }
   ],
   "source": [
    "\",\".join([\"table.\"+i+\"=EXCLUDED.\"+i for i in df.columns])"
   ]
  },
  {
   "cell_type": "code",
   "execution_count": null,
   "metadata": {},
   "outputs": [],
   "source": []
  },
  {
   "cell_type": "markdown",
   "metadata": {},
   "source": [
    "INDIAN EXPRESS = Not accessible data<br>\n",
    "HT = Data not present for some categories<br>\n",
    "Some posts are repetitive in feed<br>\n"
   ]
  },
  {
   "cell_type": "code",
   "execution_count": 201,
   "metadata": {},
   "outputs": [],
   "source": [
    "structs = {\"NWS18\":\"\"\"dat = pd.DataFrame(\n",
    "                        [\n",
    "                            [\n",
    "                                str(pub_id)+\"-\"+b64encode(md5(post[\"id\"].encode('utf-8')).digest()).decode(\"utf-8\"),#publisherID+Hash of GUID\n",
    "                                post[\"title\"],\n",
    "                                dt,\n",
    "                                post[\"link\"],\n",
    "                                idx,\n",
    "                                None,\n",
    "                                post[\"id\"],\n",
    "                                post[\"summary\"],\n",
    "                                post[\"media_content\"][0][\"url\"]\n",
    "                                \n",
    "                            ]\n",
    "                        ],\n",
    "                            columns=df.columns)\"\"\",\n",
    "           \"CNBC\":\"\"\"dat = pd.DataFrame(\n",
    "                        [\n",
    "                            [\n",
    "                                str(pub_id)+\"-\"+b64encode(md5(post[\"link\"].encode('utf-8')).digest()).decode(\"utf-8\"),#publisherID+Hash of GUID\n",
    "                                post[\"title\"],\n",
    "                                dt,\n",
    "                                post[\"link\"],\n",
    "                                idx,\n",
    "                                None,\n",
    "                                post[\"id\"],\n",
    "                                post[\"summary\"],\n",
    "                                None\n",
    "                                \n",
    "                            ]\n",
    "                        ],\n",
    "                            columns=df.columns)\"\"\",\n",
    "           \"DAJ\":\"\"\"dat = pd.DataFrame(\n",
    "                        [\n",
    "                            [\n",
    "                                str(pub_id)+\"-\"+b64encode(md5(post[\"id\"].encode('utf-8')).digest()).decode(\"utf-8\"),#publisherID+Hash of GUID\n",
    "                                post[\"title\"],\n",
    "                                dt,\n",
    "                                post[\"link\"],\n",
    "                                idx,\n",
    "                                None,\n",
    "                                post[\"id\"],\n",
    "                                post[\"summary\"],\n",
    "                                post[\"media_content\"][0][\"url\"]\n",
    "                                \n",
    "                            ]\n",
    "                        ],\n",
    "                            columns=df.columns)\"\"\",\n",
    "           \"FP\":\"\"\"dat=pd.DataFrame(\n",
    "                        [\n",
    "                            [\n",
    "                                str(pub_id)+\"-\"+b64encode(md5(post[\"id\"].encode('utf-8')).digest()).decode(\"utf-8\"),#publisherID+Hash of GUID\n",
    "                                post[\"title\"],\n",
    "                                datetime.fromtimestamp(time.mktime(post[\"published_parsed\"])).isoformat(),\n",
    "                                post[\"link\"],\n",
    "                                idx,\n",
    "                                post['author'],\n",
    "                                post[\"id\"],\n",
    "                                post[\"summary\"],\n",
    "                                post[\"media_content\"][0][\"url\"]\n",
    "                                \n",
    "                            ]\n",
    "                        ],\n",
    "                            columns=df.columns)\"\"\",\n",
    "           \"HT\":\"\"\"dat=pd.DataFrame(\n",
    "                        [\n",
    "                            [\n",
    "                                str(pub_id)+\"-\"+b64encode(md5(post[\"id\"].encode('utf-8')).digest()).decode(\"utf-8\"),#publisherID+Hash of GUID\n",
    "                                post[\"title\"],\n",
    "                                datetime.fromtimestamp(time.mktime(post[\"published_parsed\"])).isoformat(),\n",
    "                                post[\"link\"],\n",
    "                                idx,\n",
    "                                None,\n",
    "                                post[\"id\"],\n",
    "                                post[\"summary\"],\n",
    "                                post[\"media_content\"][0][\"url\"]\n",
    "                                \n",
    "                            ]\n",
    "                        ],\n",
    "                            columns=df.columns)\"\"\"\n",
    "           \n",
    "          }"
   ]
  },
  {
   "cell_type": "code",
   "execution_count": 202,
   "metadata": {},
   "outputs": [],
   "source": [
    "exec(structs[\"HT\"])"
   ]
  },
  {
   "cell_type": "code",
   "execution_count": 203,
   "metadata": {},
   "outputs": [
    {
     "data": {
      "text/html": [
       "<div>\n",
       "<style scoped>\n",
       "    .dataframe tbody tr th:only-of-type {\n",
       "        vertical-align: middle;\n",
       "    }\n",
       "\n",
       "    .dataframe tbody tr th {\n",
       "        vertical-align: top;\n",
       "    }\n",
       "\n",
       "    .dataframe thead th {\n",
       "        text-align: right;\n",
       "    }\n",
       "</style>\n",
       "<table border=\"1\" class=\"dataframe\">\n",
       "  <thead>\n",
       "    <tr style=\"text-align: right;\">\n",
       "      <th></th>\n",
       "      <th>id</th>\n",
       "      <th>title</th>\n",
       "      <th>pubdate</th>\n",
       "      <th>link</th>\n",
       "      <th>pub_category_id</th>\n",
       "      <th>author</th>\n",
       "      <th>guid</th>\n",
       "      <th>summary</th>\n",
       "      <th>mediaurl</th>\n",
       "    </tr>\n",
       "  </thead>\n",
       "  <tbody>\n",
       "    <tr>\n",
       "      <th>0</th>\n",
       "      <td>HT-en-in-rs18VnYlGgHBtyLpNEzNZA==</td>\n",
       "      <td>Weekly Numerology Predictions from 16th to 22n...</td>\n",
       "      <td>2023-10-16T06:35:30</td>\n",
       "      <td>https://www.hindustantimes.com/astrology/horos...</td>\n",
       "      <td>170</td>\n",
       "      <td>None</td>\n",
       "      <td>https://www.hindustantimes.com/astrology/horos...</td>\n",
       "      <td>Bejan Daruwala's son Chirag Daruwala writes we...</td>\n",
       "      <td>https://www.hindustantimes.com/ht-img/img/2023...</td>\n",
       "    </tr>\n",
       "  </tbody>\n",
       "</table>\n",
       "</div>"
      ],
      "text/plain": [
       "                                  id   \n",
       "0  HT-en-in-rs18VnYlGgHBtyLpNEzNZA==  \\\n",
       "\n",
       "                                               title              pubdate   \n",
       "0  Weekly Numerology Predictions from 16th to 22n...  2023-10-16T06:35:30  \\\n",
       "\n",
       "                                                link  pub_category_id author   \n",
       "0  https://www.hindustantimes.com/astrology/horos...              170   None  \\\n",
       "\n",
       "                                                guid   \n",
       "0  https://www.hindustantimes.com/astrology/horos...  \\\n",
       "\n",
       "                                             summary   \n",
       "0  Bejan Daruwala's son Chirag Daruwala writes we...  \\\n",
       "\n",
       "                                            mediaurl  \n",
       "0  https://www.hindustantimes.com/ht-img/img/2023...  "
      ]
     },
     "execution_count": 203,
     "metadata": {},
     "output_type": "execute_result"
    }
   ],
   "source": [
    "dat"
   ]
  },
  {
   "cell_type": "code",
   "execution_count": null,
   "metadata": {},
   "outputs": [],
   "source": []
  }
 ],
 "metadata": {
  "kernelspec": {
   "display_name": "Python 3",
   "language": "python",
   "name": "python3"
  },
  "language_info": {
   "codemirror_mode": {
    "name": "ipython",
    "version": 3
   },
   "file_extension": ".py",
   "mimetype": "text/x-python",
   "name": "python",
   "nbconvert_exporter": "python",
   "pygments_lexer": "ipython3",
   "version": "3.9.1"
  }
 },
 "nbformat": 4,
 "nbformat_minor": 4
}
