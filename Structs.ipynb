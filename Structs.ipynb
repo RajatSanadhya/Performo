{
 "cells": [
  {
   "cell_type": "markdown",
   "metadata": {},
   "source": [
    "# Dict structures"
   ]
  },
  {
   "cell_type": "markdown",
   "metadata": {},
   "source": [
    "### 1. Business Standard"
   ]
  },
  {
   "cell_type": "markdown",
   "metadata": {},
   "source": []
  },
  {
   "cell_type": "markdown",
   "metadata": {},
   "source": [
    "### 2. CNBC"
   ]
  },
  {
   "cell_type": "raw",
   "metadata": {},
   "source": [
    "dict_keys(['links', 'link', 'id', 'guidislink', 'metadata_type', 'metadata_id', 'metadata_sponsored', 'title', 'title_detail', 'summary', 'summary_detail', 'published', 'published_parsed'])"
   ]
  },
  {
   "cell_type": "markdown",
   "metadata": {},
   "source": [
    "### 3. Dainik Jagran"
   ]
  },
  {
   "cell_type": "raw",
   "metadata": {},
   "source": [
    "dict_keys(['title', 'title_detail', 'links', 'link', 'id', 'guidislink', 'summary', 'summary_detail', 'published', 'published_parsed', 'media_content'])"
   ]
  },
  {
   "cell_type": "markdown",
   "metadata": {},
   "source": [
    "### 4. First Post"
   ]
  },
  {
   "cell_type": "raw",
   "metadata": {},
   "source": [
    "dict_keys(['title', 'title_detail', 'links', 'link', 'id', 'guidislink', 'published', 'published_parsed', 'authors', 'author', 'author_detail', 'summary', 'summary_detail', 'content', 'media_content', 'tags'])"
   ]
  },
  {
   "cell_type": "markdown",
   "metadata": {},
   "source": [
    "### 5. HT"
   ]
  },
  {
   "cell_type": "raw",
   "metadata": {},
   "source": [
    "dict_keys(['title', 'title_detail', 'summary', 'summary_detail', 'links', 'link', 'id', 'guidislink', 'tags', 'published', 'published_parsed', 'media_content'])"
   ]
  },
  {
   "cell_type": "markdown",
   "metadata": {},
   "source": [
    "### 6. India Today"
   ]
  },
  {
   "cell_type": "raw",
   "metadata": {},
   "source": [
    "dict_keys(['title', 'title_detail', 'links', 'link', 'summary', 'summary_detail', 'published', 'published_parsed'])"
   ]
  },
  {
   "cell_type": "markdown",
   "metadata": {},
   "source": [
    "### 7. India TV English"
   ]
  },
  {
   "cell_type": "raw",
   "metadata": {},
   "source": [
    "dict_keys(['title', 'title_detail', 'summary', 'summary_detail', 'links', 'link', 'id', 'guidislink', 'published', 'published_parsed'])"
   ]
  },
  {
   "cell_type": "markdown",
   "metadata": {},
   "source": [
    "### 8. India TV Hindi"
   ]
  },
  {
   "cell_type": "raw",
   "metadata": {},
   "source": [
    "dict_keys(['title', 'title_detail', 'summary', 'summary_detail', 'links', 'link', 'id', 'guidislink', 'published', 'published_parsed'])"
   ]
  },
  {
   "cell_type": "markdown",
   "metadata": {},
   "source": [
    "### 9. Indian Express "
   ]
  },
  {
   "cell_type": "raw",
   "metadata": {},
   "source": []
  },
  {
   "cell_type": "markdown",
   "metadata": {},
   "source": [
    "### 10. Live Mint"
   ]
  },
  {
   "cell_type": "raw",
   "metadata": {},
   "source": [
    "dict_keys(['title', 'title_detail', 'links', 'link', 'summary', 'summary_detail', 'published', 'published_parsed', 'id', 'guidislink', 'media_content'])"
   ]
  },
  {
   "cell_type": "markdown",
   "metadata": {},
   "source": [
    "### 11. Money Control"
   ]
  },
  {
   "cell_type": "raw",
   "metadata": {},
   "source": [
    "dict_keys(['title', 'title_detail', 'links', 'link', 'summary', 'summary_detail', 'published', 'published_parsed', 'id', 'guidislink'])"
   ]
  },
  {
   "cell_type": "markdown",
   "metadata": {},
   "source": [
    "### 12. NDTV"
   ]
  },
  {
   "cell_type": "raw",
   "metadata": {},
   "source": [
    "dict_keys(['id', 'guidislink', 'link', 'title', 'title_detail', 'links', 'published', 'published_parsed', 'summary', 'summary_detail', 'content', 'media_content'])"
   ]
  },
  {
   "cell_type": "markdown",
   "metadata": {},
   "source": [
    "### 13. The Hindu"
   ]
  },
  {
   "cell_type": "raw",
   "metadata": {},
   "source": [
    "dict_keys(['title', 'title_detail', 'summary', 'summary_detail', 'links', 'link', 'id', 'guidislink', 'tags', 'published', 'published_parsed', 'media_content'])"
   ]
  },
  {
   "cell_type": "markdown",
   "metadata": {},
   "source": [
    "### 14. The Tribune"
   ]
  },
  {
   "cell_type": "raw",
   "metadata": {},
   "source": [
    "dict_keys(['articleid', 'title', 'title_detail', 'subheadline', 'deck', 'summary', 'summary_detail', 'excerpt', 'thumbimage', 'fullimage', 'imagecaption', 'media_content', 'content', 'published', 'published_parsed', 'authorname', 'authorimage', 'authordescription', 'video_url', 'links', 'link', 'updateddate', 'tags'])"
   ]
  },
  {
   "cell_type": "markdown",
   "metadata": {},
   "source": [
    "### 15. TOI"
   ]
  },
  {
   "cell_type": "raw",
   "metadata": {},
   "source": [
    "dict_keys(['title', 'title_detail', 'summary', 'summary_detail', 'links', 'link', 'id', 'guidislink', 'published', 'published_parsed', 'authors', 'author', 'author_detail'])"
   ]
  },
  {
   "cell_type": "markdown",
   "metadata": {},
   "source": [
    "### 16. News 18"
   ]
  },
  {
   "cell_type": "raw",
   "metadata": {},
   "source": [
    "dict_keys(['title', 'title_detail', 'links', 'link', 'summary', 'summary_detail', 'published', 'published_parsed', 'id', 'guidislink', 'tags', 'media_content'])"
   ]
  },
  {
   "cell_type": "code",
   "execution_count": null,
   "metadata": {},
   "outputs": [],
   "source": []
  },
  {
   "cell_type": "raw",
   "metadata": {},
   "source": [
    "{\n",
    "'title': 'Assembly polls 2023 | Battling the odds', \n",
    "\n",
    "'title_detail': {'type': 'text/plain', 'language': None, 'base': 'https://www.indiatoday.in/rss/1206509', 'value': 'Assembly polls 2023 | Battling the odds'}, \n",
    "\n",
    "'links': [{'rel': 'alternate', 'type': 'text/html', 'href': 'https://www.indiatoday.in/magazine/cover-story/story/20231023-assembly-polls-2023-battling-the-odds-2448338-2023-10-13?utm_source=rss'}], \n",
    "\n",
    "'link': 'https://www.indiatoday.in/magazine/cover-story/story/20231023-assembly-polls-2023-battling-the-odds-2448338-2023-10-13?utm_source=rss', \n",
    "\n",
    "'summary': '<a href=\"https://www.indiatoday.in/magazine/cover-story/story/20231023-assembly-polls-2023-battling-the-odds-2448338-2023-10-13\"> <img align=\"left\" alt=\"\" border=\"0\" height=\"180\" hspace=\"2\" src=\"https://akm-img-a-in.tosshub.com/indiatoday/images/story/202310/battling-the-odds-1355512-16x9.jpg?VersionId=o.YB2XKB9mJZVL6cpNzpgATZfaFdpeax\" width=\"305\" /> </a> Assembly polls 2023 | Battling the odds', \n",
    "\n",
    "'summary_detail': {'type': 'text/html', 'language': None, 'base': 'https://www.indiatoday.in/rss/1206509', 'value': '<a href=\"https://www.indiatoday.in/magazine/cover-story/story/20231023-assembly-polls-2023-battling-the-odds-2448338-2023-10-13\"> <img align=\"left\" alt=\"\" border=\"0\" height=\"180\" hspace=\"2\" src=\"https://akm-img-a-in.tosshub.com/indiatoday/images/story/202310/battling-the-odds-1355512-16x9.jpg?VersionId=o.YB2XKB9mJZVL6cpNzpgATZfaFdpeax\" width=\"305\" /> </a> Assembly polls 2023 | Battling the odds'}, \n",
    "\n",
    "'published': 'Fri, 13 Oct 2023 19:27:51+05:30', \n",
    "\n",
    "'published_parsed': None\n",
    "}"
   ]
  },
  {
   "cell_type": "code",
   "execution_count": null,
   "metadata": {},
   "outputs": [],
   "source": []
  }
 ],
 "metadata": {
  "kernelspec": {
   "display_name": "Python 3",
   "language": "python",
   "name": "python3"
  },
  "language_info": {
   "codemirror_mode": {
    "name": "ipython",
    "version": 3
   },
   "file_extension": ".py",
   "mimetype": "text/x-python",
   "name": "python",
   "nbconvert_exporter": "python",
   "pygments_lexer": "ipython3",
   "version": "3.9.1"
  }
 },
 "nbformat": 4,
 "nbformat_minor": 4
}
