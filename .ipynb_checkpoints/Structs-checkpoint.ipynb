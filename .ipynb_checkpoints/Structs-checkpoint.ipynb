{
 "cells": [
  {
   "cell_type": "markdown",
   "metadata": {},
   "source": [
    "# Dict structures"
   ]
  },
  {
   "cell_type": "markdown",
   "metadata": {},
   "source": [
    "### 1. Business Standard"
   ]
  },
  {
   "cell_type": "markdown",
   "metadata": {},
   "source": []
  },
  {
   "cell_type": "markdown",
   "metadata": {},
   "source": [
    "### 2. CNBC"
   ]
  },
  {
   "cell_type": "raw",
   "metadata": {},
   "source": [
    "dict_keys(['links', 'link', 'id', 'guidislink', 'metadata_type', 'metadata_id', 'metadata_sponsored', 'title', 'title_detail', 'summary', 'summary_detail', 'published', 'published_parsed'])"
   ]
  },
  {
   "cell_type": "markdown",
   "metadata": {},
   "source": [
    "### 3. Dainik Jagran"
   ]
  },
  {
   "cell_type": "raw",
   "metadata": {},
   "source": [
    "dict_keys(['title', 'title_detail', 'links', 'link', 'id', 'guidislink', 'summary', 'summary_detail', 'published', 'published_parsed', 'media_content'])"
   ]
  },
  {
   "cell_type": "markdown",
   "metadata": {},
   "source": [
    "### 4. First Post"
   ]
  },
  {
   "cell_type": "raw",
   "metadata": {},
   "source": [
    "dict_keys(['title', 'title_detail', 'links', 'link', 'id', 'guidislink', 'published', 'published_parsed', 'authors', 'author', 'author_detail', 'summary', 'summary_detail', 'content', 'media_content', 'tags'])"
   ]
  },
  {
   "cell_type": "markdown",
   "metadata": {},
   "source": [
    "### 5. HT"
   ]
  },
  {
   "cell_type": "raw",
   "metadata": {},
   "source": [
    "dict_keys(['title', 'title_detail', 'summary', 'summary_detail', 'links', 'link', 'id', 'guidislink', 'tags', 'published', 'published_parsed', 'media_content'])"
   ]
  },
  {
   "cell_type": "markdown",
   "metadata": {},
   "source": [
    "### 6. India Today"
   ]
  },
  {
   "cell_type": "raw",
   "metadata": {},
   "source": [
    "dict_keys(['title', 'title_detail', 'links', 'link', 'summary', 'summary_detail', 'published', 'published_parsed'])"
   ]
  },
  {
   "cell_type": "markdown",
   "metadata": {},
   "source": [
    "### 7. India TV English"
   ]
  },
  {
   "cell_type": "raw",
   "metadata": {},
   "source": [
    "dict_keys(['title', 'title_detail', 'summary', 'summary_detail', 'links', 'link', 'id', 'guidislink', 'published', 'published_parsed'])"
   ]
  },
  {
   "cell_type": "markdown",
   "metadata": {},
   "source": [
    "### 8. India TV Hindi"
   ]
  },
  {
   "cell_type": "raw",
   "metadata": {},
   "source": [
    "dict_keys(['title', 'title_detail', 'summary', 'summary_detail', 'links', 'link', 'id', 'guidislink', 'published', 'published_parsed'])"
   ]
  },
  {
   "cell_type": "markdown",
   "metadata": {},
   "source": [
    "### 9. Indian Express "
   ]
  },
  {
   "cell_type": "raw",
   "metadata": {},
   "source": []
  },
  {
   "cell_type": "markdown",
   "metadata": {},
   "source": [
    "### 10. Live Mint"
   ]
  },
  {
   "cell_type": "raw",
   "metadata": {},
   "source": [
    "dict_keys(['title', 'title_detail', 'links', 'link', 'summary', 'summary_detail', 'published', 'published_parsed', 'id', 'guidislink', 'media_content'])"
   ]
  },
  {
   "cell_type": "markdown",
   "metadata": {},
   "source": [
    "### 11. Money Control"
   ]
  },
  {
   "cell_type": "raw",
   "metadata": {},
   "source": [
    "dict_keys(['title', 'title_detail', 'links', 'link', 'summary', 'summary_detail', 'published', 'published_parsed', 'id', 'guidislink'])"
   ]
  },
  {
   "cell_type": "markdown",
   "metadata": {},
   "source": [
    "### 12. NDTV"
   ]
  },
  {
   "cell_type": "raw",
   "metadata": {},
   "source": [
    "dict_keys(['id', 'guidislink', 'link', 'title', 'title_detail', 'links', 'published', 'published_parsed', 'summary', 'summary_detail', 'content', 'media_content'])"
   ]
  },
  {
   "cell_type": "markdown",
   "metadata": {},
   "source": [
    "### 13. The Hindu"
   ]
  },
  {
   "cell_type": "raw",
   "metadata": {},
   "source": [
    "dict_keys(['title', 'title_detail', 'summary', 'summary_detail', 'links', 'link', 'id', 'guidislink', 'tags', 'published', 'published_parsed', 'media_content'])"
   ]
  },
  {
   "cell_type": "markdown",
   "metadata": {},
   "source": [
    "### 14. The Tribune"
   ]
  },
  {
   "cell_type": "raw",
   "metadata": {},
   "source": [
    "dict_keys(['articleid', 'title', 'title_detail', 'subheadline', 'deck', 'summary', 'summary_detail', 'excerpt', 'thumbimage', 'fullimage', 'imagecaption', 'media_content', 'content', 'published', 'published_parsed', 'authorname', 'authorimage', 'authordescription', 'video_url', 'links', 'link', 'updateddate', 'tags'])"
   ]
  },
  {
   "cell_type": "markdown",
   "metadata": {},
   "source": [
    "### 15. TOI"
   ]
  },
  {
   "cell_type": "raw",
   "metadata": {},
   "source": [
    "dict_keys(['title', 'title_detail', 'summary', 'summary_detail', 'links', 'link', 'id', 'guidislink', 'published', 'published_parsed', 'authors', 'author', 'author_detail'])"
   ]
  },
  {
   "cell_type": "markdown",
   "metadata": {},
   "source": [
    "### 16. News 18"
   ]
  },
  {
   "cell_type": "raw",
   "metadata": {},
   "source": [
    "dict_keys(['title', 'title_detail', 'links', 'link', 'summary', 'summary_detail', 'published', 'published_parsed', 'id', 'guidislink', 'tags', 'media_content'])"
   ]
  },
  {
   "cell_type": "code",
   "execution_count": null,
   "metadata": {},
   "outputs": [],
   "source": []
  },
  {
   "cell_type": "raw",
   "metadata": {},
   "source": []
  },
  {
   "cell_type": "code",
   "execution_count": null,
   "metadata": {},
   "outputs": [],
   "source": []
  }
 ],
 "metadata": {
  "kernelspec": {
   "display_name": "Python 3",
   "language": "python",
   "name": "python3"
  },
  "language_info": {
   "codemirror_mode": {
    "name": "ipython",
    "version": 3
   },
   "file_extension": ".py",
   "mimetype": "text/x-python",
   "name": "python",
   "nbconvert_exporter": "python",
   "pygments_lexer": "ipython3",
   "version": "3.9.1"
  }
 },
 "nbformat": 4,
 "nbformat_minor": 4
}
