{
 "cells": [
  {
   "cell_type": "code",
   "execution_count": 1,
   "metadata": {},
   "outputs": [],
   "source": [
    "import requests\n",
    "import psycopg2\n",
    "import json\n",
    "from datetime import datetime\n",
    "from Utils import connectDB"
   ]
  },
  {
   "cell_type": "code",
   "execution_count": 2,
   "metadata": {},
   "outputs": [],
   "source": [
    "class ScaleSERP:\n",
    "    api_key = \"\"\n",
    "    def __init__(self,key):\n",
    "        self.api_key = key\n",
    "    \n",
    "    def get_data(self,keyword):\n",
    "        params = {\n",
    "            'api_key': self.api_key,\n",
    "            'q': keyword,\n",
    "            'num' : '10',\n",
    "            'location' : 'India'\n",
    "        }\n",
    "        return requests.get('https://api.scaleserp.com/search', params).json()"
   ]
  },
  {
   "cell_type": "code",
   "execution_count": 3,
   "metadata": {},
   "outputs": [],
   "source": [
    "scale_serp = ScaleSERP(\"89DD27B6FB0E442B83B68F8BC679F52A\")"
   ]
  },
  {
   "cell_type": "code",
   "execution_count": null,
   "metadata": {},
   "outputs": [],
   "source": [
    "url = \"https://trends.google.com/trends/api/realtimetrends?hl=en-US&tz=-330&cat=all&fi=0&fs=0&geo=IN&ri=300&rs=100&sort=0\"\n",
    "response = requests.get(url)\n",
    "data = json.loads(response.text[5:])"
   ]
  },
  {
   "cell_type": "code",
   "execution_count": 25,
   "metadata": {},
   "outputs": [],
   "source": [
    "conn = connectDB()\n",
    "cur = conn.cursor()"
   ]
  },
  {
   "cell_type": "code",
   "execution_count": 26,
   "metadata": {},
   "outputs": [],
   "source": [
    "for k in data['storySummaries']['trendingStories'][:5]:\n",
    "    for j in k['entityNames']:\n",
    "        if(not len(j)>0):\n",
    "            continue\n",
    "        dat = scale_serp.get_data(j)\n",
    "        for i in dat[\"organic_results\"]:\n",
    "            cur.execute(f\"\"\"INSERT INTO dev_performo.article_ranking \n",
    "                            (rank,rank_datetime,article_id,block_position) \n",
    "                            select {i['position']},'{datetime.now().isoformat()}',(select id from dev_performo.article_master am where link = '{i['link']}'),{i['block_position']}\n",
    "                            where exists (select 1 from dev_performo.article_master am2 where link = '{i['link']}')\"\"\")\n",
    "            cur.execute(f\"\"\"INSERT INTO dev_performo.missed_article_ranking \n",
    "                            (rank,rank_datetime,link,block_position) \n",
    "                            select {i['position']},'{datetime.now().isoformat()}','{i['link']}',{i['block_position']}\n",
    "                            where not exists (select 1 from dev_performo.article_master am2 where link = '{i['link']}')\"\"\")\n",
    "        cur.execute(\n",
    "            f\"\"\"insert into dev_performo.trends_keywords \n",
    "                (name,firstseendate,lastseendate) \n",
    "                select '{j}','{datetime.now().isoformat()}','{datetime.now().isoformat()}' \n",
    "                where not exists ( select 1 from dev_performo.trends_keywords where name = '{j}');\n",
    "                update dev_performo.trends_keywords \n",
    "                set lastseendate='{datetime.now().isoformat()}'\n",
    "                where name='{j}';\"\"\")\n",
    "        conn.commit()"
   ]
  },
  {
   "cell_type": "code",
   "execution_count": 27,
   "metadata": {},
   "outputs": [],
   "source": [
    "cur.close()\n",
    "conn.close()"
   ]
  },
  {
   "cell_type": "code",
   "execution_count": 5,
   "metadata": {},
   "outputs": [
    {
     "data": {
      "text/plain": [
       "26"
      ]
     },
     "execution_count": 5,
     "metadata": {},
     "output_type": "execute_result"
    }
   ],
   "source": [
    "len(data['storySummaries']['trendingStories'])"
   ]
  },
  {
   "cell_type": "code",
   "execution_count": 6,
   "metadata": {},
   "outputs": [
    {
     "data": {
      "text/plain": [
       "['New Zealand national cricket team',\n",
       " 'South Africa national cricket team',\n",
       " 'Kane Williamson']"
      ]
     },
     "execution_count": 6,
     "metadata": {},
     "output_type": "execute_result"
    }
   ],
   "source": [
    "data['storySummaries']['trendingStories'][0]['entityNames']"
   ]
  },
  {
   "cell_type": "code",
   "execution_count": 12,
   "metadata": {},
   "outputs": [
    {
     "name": "stdout",
     "output_type": "stream",
     "text": [
      "16\n"
     ]
    }
   ],
   "source": [
    "count = 0\n",
    "for i in data['storySummaries']['trendingStories'][:5]:\n",
    "    for j in i['entityNames']:\n",
    "        count += 1 \n",
    "print(count)"
   ]
  },
  {
   "cell_type": "code",
   "execution_count": 13,
   "metadata": {},
   "outputs": [
    {
     "name": "stdout",
     "output_type": "stream",
     "text": [
      "New Zealand national cricket team\n",
      "South Africa national cricket team\n",
      "Kane Williamson\n",
      "Australia\n",
      "United Kingdom\n",
      "Union Jack\n",
      "India\n",
      "New Zealand\n",
      "New Zealand national cricket team\n",
      "Karwa Chauth\n",
      "Vrata\n",
      "Puja\n",
      "New Zealand\n",
      "South Africa\n",
      "South Africa national cricket team\n",
      "Quinton de Kock\n"
     ]
    }
   ],
   "source": [
    "for i in data['storySummaries']['trendingStories'][:5]:\n",
    "    for j in i['entityNames']:\n",
    "        print(j)"
   ]
  },
  {
   "cell_type": "code",
   "execution_count": null,
   "metadata": {},
   "outputs": [],
   "source": []
  }
 ],
 "metadata": {
  "kernelspec": {
   "display_name": "Python 3",
   "language": "python",
   "name": "python3"
  },
  "language_info": {
   "codemirror_mode": {
    "name": "ipython",
    "version": 3
   },
   "file_extension": ".py",
   "mimetype": "text/x-python",
   "name": "python",
   "nbconvert_exporter": "python",
   "pygments_lexer": "ipython3",
   "version": "3.9.1"
  }
 },
 "nbformat": 4,
 "nbformat_minor": 4
}
