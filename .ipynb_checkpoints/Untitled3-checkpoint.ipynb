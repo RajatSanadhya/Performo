{
 "cells": [
  {
   "cell_type": "code",
   "execution_count": 1,
   "metadata": {},
   "outputs": [],
   "source": [
    "import requests\n",
    "import json\n",
    "from Utils import connectDB\n",
    "from datetime import datetime"
   ]
  },
  {
   "cell_type": "code",
   "execution_count": 2,
   "metadata": {},
   "outputs": [],
   "source": [
    "class ScaleSERP:\n",
    "    api_key = \"\"\n",
    "    def __init__(self,key):\n",
    "        self.api_key = key\n",
    "    \n",
    "    def get_data(self,keyword):\n",
    "        params = {\n",
    "            'api_key': self.api_key,\n",
    "            'q': keyword,\n",
    "            'num' : '10',\n",
    "            'location' : 'India'\n",
    "        }\n",
    "        return requests.get('https://api.scaleserp.com/search', params).json()"
   ]
  },
  {
   "cell_type": "code",
   "execution_count": 3,
   "metadata": {},
   "outputs": [],
   "source": [
    "scale_serp = ScaleSERP(\"89DD27B6FB0E442B83B68F8BC679F52A\")\n",
    "# conn = connectDB()\n",
    "# cur = conn.cursor()\n",
    "# cur.execute(\"SELECT name from dev_performo.trends_keywords\")\n",
    "# keywords = cur.fetchall()"
   ]
  },
  {
   "cell_type": "code",
   "execution_count": null,
   "metadata": {},
   "outputs": [],
   "source": [
    "for j in keywords:\n",
    "    data = scale_serp.get_data(j[0])\n",
    "    for i in data[\"organic_results\"]:\n",
    "        cur.execute(f\"\"\"INSERT INTO dev_performo.article_ranking \n",
    "                        (rank,rank_datetime,article_id) \n",
    "                        select {i['postion']},'{datetime.now().isoformat()}',(select id from article_master am where link = '{i['link']}')\n",
    "                        where exists (select 1 from article_master am2 where link = '{i['link']}')\"\"\")\n",
    "    "
   ]
  },
  {
   "cell_type": "code",
   "execution_count": 7,
   "metadata": {},
   "outputs": [
    {
     "name": "stdout",
     "output_type": "stream",
     "text": [
      "Rank = 1\n",
      "Link = https://en.wikipedia.org/wiki/Li_Shangfu\n",
      "Block Position = 3\n",
      "––––––––––––––––––––––––––––\n",
      "Rank = 2\n",
      "Link = https://www.cnn.com/2023/10/24/china/china-names-new-defense-minister-intl-hnk/index.html\n",
      "Block Position = 4\n",
      "––––––––––––––––––––––––––––\n",
      "Rank = 3\n",
      "Link = https://www.reuters.com/world/china/china-removes-li-shangfu-defence-minister-state-media-2023-10-24/\n",
      "Block Position = 6\n",
      "––––––––––––––––––––––––––––\n",
      "Rank = 4\n",
      "Link = https://www.hindustantimes.com/world-news/china-removes-missing-li-shangfu-as-defence-minister-without-explanation-101698146879708.html\n",
      "Block Position = 7\n",
      "––––––––––––––––––––––––––––\n",
      "Rank = 5\n",
      "Link = https://www.bbc.com/news/world-asia-china-67207353\n",
      "Block Position = 8\n",
      "––––––––––––––––––––––––––––\n",
      "Rank = 6\n",
      "Link = https://www.npr.org/2023/10/24/1208187978/china-removes-defense-minister-li-shangfu\n",
      "Block Position = 9\n",
      "––––––––––––––––––––––––––––\n",
      "Rank = 7\n",
      "Link = https://asia.nikkei.com/Politics/China-officially-expels-Li-Shangfu-as-defense-minister\n",
      "Block Position = 10\n",
      "––––––––––––––––––––––––––––\n",
      "Rank = 8\n",
      "Link = https://www.scmp.com/news/china/military/article/3239030/li-shangfu-axed-defence-minister-second-china-leadership-shock\n",
      "Block Position = 11\n",
      "––––––––––––––––––––––––––––\n",
      "Rank = 9\n",
      "Link = https://apnews.com/article/china-defense-minister-us-taiwan-8bbb77e5e37e5427cb8cc79b6e8d2b22\n",
      "Block Position = 12\n",
      "––––––––––––––––––––––––––––\n",
      "Rank = 10\n",
      "Link = https://www.livemint.com/news/world/china-sacks-defence-minister-li-shangfu-out-of-public-view-since-nearly-2-months-11698146786087.html\n",
      "Block Position = 13\n",
      "––––––––––––––––––––––––––––\n"
     ]
    }
   ],
   "source": [
    "# data = scale_serp.get_data('li shangfu')\n",
    "for i in data[\"organic_results\"]:\n",
    "    print(f\"Rank = {i['position']}\\nLink = {i['link']}\\nBlock Position = {i['block_position']}\\n––––––––––––––––––––––––––––\")"
   ]
  },
  {
   "cell_type": "code",
   "execution_count": 5,
   "metadata": {},
   "outputs": [
    {
     "name": "stdout",
     "output_type": "stream",
     "text": [
      "[{'position': 1, 'title': 'Li Shangfu', 'link': 'https://en.wikipedia.org/wiki/Li_Shangfu', 'domain': 'en.wikipedia.org', 'displayed_link': 'https://en.wikipedia.org › ...', 'snippet': '48 मिनट पहले — Li Shangfu (Chinese: 李尚福; pinyin: Lǐ Shàngfú; born February 1958) is a Chinese aerospace engineer and former military administrator who served as the 13th Minister of National Defence of China and as State Councillor of China from March to October 2023.', 'prerender': False, 'cached_page_link': 'https://webcache.googleusercontent.com/search?q=cache:4Lej9KOro6UJ:https://en.wikipedia.org/wiki/Li_Shangfu&hl=hi&gl=in', 'sitelinks': {'inline': [{'title': 'Early life', 'link': 'https://en.wikipedia.org/wiki/Li_Shangfu#Early_life'}, {'title': 'Career', 'link': 'https://en.wikipedia.org/wiki/Li_Shangfu#Career'}, {'title': 'Central Military Commission', 'link': 'https://en.wikipedia.org/wiki/Li_Shangfu#Central_Military_Commission'}, {'title': 'Disputes', 'link': 'https://en.wikipedia.org/wiki/Li_Shangfu#Disputes'}]}, 'block_position': 3}, {'position': 2, 'title': 'China removes Defense Minister Li Shangfu after ... - CNN', 'link': 'https://www.cnn.com/2023/10/24/china/china-names-new-defense-minister-intl-hnk/index.html', 'domain': 'www.cnn.com', 'displayed_link': 'https://www.cnn.com › 2023/10/24 › china › china-nam...', 'snippet': \"4 घंटे पहले — China's Defense Minister Li Shangfu was fired on Tuesday two months after he disappeared from public view, becoming the second high-profile ...\", 'prerender': False, 'block_position': 4}, {'position': 3, 'title': 'China ousts defence minister, the second senior leader to ...', 'link': 'https://www.reuters.com/world/china/china-removes-li-shangfu-defence-minister-state-media-2023-10-24/', 'domain': 'www.reuters.com', 'displayed_link': 'https://www.reuters.com › ...', 'snippet': '15 घंटे पहले — General Li Shangfu, who has been absent from public view for two months, was dismissed as defence minister and state councillor, according to ...', 'prerender': False, 'block_position': 6}, {'position': 4, 'title': \"China removes 'missing' Li Shangfu as defence minister ...\", 'link': 'https://www.hindustantimes.com/world-news/china-removes-missing-li-shangfu-as-defence-minister-without-explanation-101698146879708.html', 'domain': 'www.hindustantimes.com', 'displayed_link': 'https://www.hindustantimes.com › ...', 'snippet': '17 घंटे पहले — Li Shangfu is the second minister to be abruptly removed since Xi Jinping began his unprecedented third term last October. Qin Gang was replaced ...', 'prerender': False, 'cached_page_link': 'https://webcache.googleusercontent.com/search?q=cache:vQ9KCPAMeuAJ:https://www.hindustantimes.com/world-news/china-removes-missing-li-shangfu-as-defence-minister-without-explanation-101698146879708.html&hl=hi&gl=in', 'block_position': 7}, {'position': 5, 'title': 'Li Shangfu: Chinese defence minister sacked', 'link': 'https://www.bbc.com/news/world-asia-china-67207353', 'domain': 'www.bbc.com', 'displayed_link': 'https://www.bbc.com › ...', 'snippet': '15 घंटे पहले — China has officially sacked its defence minister Li Shangfu, two months after he disappeared from public life.', 'prerender': False, 'cached_page_link': 'https://webcache.googleusercontent.com/search?q=cache:1Xbod2OVdQ8J:https://www.bbc.com/news/world-asia-china-67207353&hl=hi&gl=in', 'block_position': 8}, {'position': 6, 'title': 'China removes Li Shangfu as defense minister after weeks ...', 'link': 'https://www.npr.org/2023/10/24/1208187978/china-removes-defense-minister-li-shangfu', 'domain': 'www.npr.org', 'displayed_link': 'https://www.npr.org › c...', 'snippet': \"14 घंटे पहले — China's leadership has formally dismissed the country's defense minister, Li Shangfu, about two months after he disappeared from the public ...\", 'prerender': False, 'block_position': 9}, {'position': 7, 'title': 'China officially expels Li Shangfu as defense minister', 'link': 'https://asia.nikkei.com/Politics/China-officially-expels-Li-Shangfu-as-defense-minister', 'domain': 'asia.nikkei.com', 'displayed_link': 'https://asia.nikkei.com › ...', 'snippet': \"16 घंटे पहले — SHANGHAI -- Chinese Defense Minister Li Shangfu has been expelled from his post, the country's top legislative body said Tuesday without ...\", 'prerender': False, 'cached_page_link': 'https://webcache.googleusercontent.com/search?q=cache:MRqFyI72evIJ:https://asia.nikkei.com/Politics/China-officially-expels-Li-Shangfu-as-defense-minister&hl=hi&gl=in', 'block_position': 10}, {'position': 8, 'title': 'China sacks missing defence chief Li Shangfu with no ...', 'link': 'https://www.scmp.com/news/china/military/article/3239030/li-shangfu-axed-defence-minister-second-china-leadership-shock', 'domain': 'www.scmp.com', 'displayed_link': 'https://www.scmp.com › ...', 'snippet': '14 घंटे पहले — China has dismissed General Li Shangfu as defence minister, the second senior official to be ousted in the past three months with no explanation ...', 'prerender': False, 'cached_page_link': 'https://webcache.googleusercontent.com/search?q=cache:W3g6LObp5EMJ:https://www.scmp.com/news/china/military/article/3239030/li-shangfu-axed-defence-minister-second-china-leadership-shock&hl=hi&gl=in', 'block_position': 11}, {'position': 9, 'title': 'China removes defense minister Gen. Li Shangfu', 'link': 'https://apnews.com/article/china-defense-minister-us-taiwan-8bbb77e5e37e5427cb8cc79b6e8d2b22', 'domain': 'apnews.com', 'displayed_link': 'https://apnews.com › ar...', 'snippet': '3 घंटे पहले — Taiwan (AP) — China has replaced Defense Minister Gen. Li Shangfu, who has been out of public view for almost two months, state media reported ...', 'prerender': False, 'cached_page_link': 'https://webcache.googleusercontent.com/search?q=cache:xSSh0rr3WjgJ:https://apnews.com/article/china-defense-minister-us-taiwan-8bbb77e5e37e5427cb8cc79b6e8d2b22&hl=hi&gl=in', 'block_position': 12}, {'position': 10, 'title': 'China sacks Defence Minister Li Shangfu, out of public view ...', 'link': 'https://www.livemint.com/news/world/china-sacks-defence-minister-li-shangfu-out-of-public-view-since-nearly-2-months-11698146786087.html', 'domain': 'www.livemint.com', 'displayed_link': 'https://www.livemint.com › ...', 'snippet': \"16 घंटे पहले — The Communist party government in China has sacked Li Shangfu as the country's defence minister, state broadcaster CCTV reported on October ...\", 'prerender': False, 'cached_page_link': 'https://webcache.googleusercontent.com/search?q=cache:QoY2SUisYD8J:https://www.livemint.com/news/world/china-sacks-defence-minister-li-shangfu-out-of-public-view-since-nearly-2-months-11698146786087.html&hl=hi&gl=in', 'block_position': 13}]\n"
     ]
    }
   ],
   "source": [
    "print(data['organic_results'])"
   ]
  },
  {
   "cell_type": "code",
   "execution_count": 15,
   "metadata": {},
   "outputs": [
    {
     "name": "stdout",
     "output_type": "stream",
     "text": [
      "2 - https://m.timesofindia.com/world/china/china-removes-defence-minister-li-shangfu-ousts-ex-foreign-minister-qin-gangfrom-cabinet-in-another-big-leadership-shakeup/articleshow/104674965.cms\n",
      "2 - https://www.hindustantimes.com/world-news/xi-jinping-sacks-defence-minister-li-shangfu-who-was-missing-for-2-months-101698157311008.html\n",
      "2 - https://www.thehindu.com/news/international/china-announces-removal-of-defence-minister-missing-for-almost-2-months-with-little-explanation/article67453719.ece\n",
      "2 - https://www.business-standard.com/world-news/china-removes-missing-defense-minister-shangfu-with-no-explanation-123102400581_1.html\n",
      "2 - https://www.livemint.com/news/world/china-sacks-defence-minister-li-shangfu-out-of-public-view-since-nearly-2-months-11698146786087.html\n",
      "2 - https://www.amarujala.com/world/china-has-removed-li-shangfu-from-his-position-as-defence-minister-and-state-councillor-2023-10-24\n",
      "2 - https://www.jagran.com/world/china-chinese-defense-minister-li-shangfu-dismissed-from-the-post-was-missing-for-two-months-23564218.html\n"
     ]
    }
   ],
   "source": [
    "for i in data['top_stories']:\n",
    "    print(f\"{i['block_position']} - {i['link']}\")"
   ]
  },
  {
   "cell_type": "code",
   "execution_count": 18,
   "metadata": {},
   "outputs": [
    {
     "data": {
      "text/plain": [
       "7"
      ]
     },
     "execution_count": 18,
     "metadata": {},
     "output_type": "execute_result"
    }
   ],
   "source": [
    "len(data['top_stories'])"
   ]
  },
  {
   "cell_type": "code",
   "execution_count": null,
   "metadata": {},
   "outputs": [],
   "source": []
  }
 ],
 "metadata": {
  "kernelspec": {
   "display_name": "Python 3",
   "language": "python",
   "name": "python3"
  },
  "language_info": {
   "codemirror_mode": {
    "name": "ipython",
    "version": 3
   },
   "file_extension": ".py",
   "mimetype": "text/x-python",
   "name": "python",
   "nbconvert_exporter": "python",
   "pygments_lexer": "ipython3",
   "version": "3.9.1"
  }
 },
 "nbformat": 4,
 "nbformat_minor": 4
}
